{
  "nbformat": 4,
  "nbformat_minor": 0,
  "metadata": {
    "colab": {
      "name": "Untitled0.ipynb",
      "provenance": [],
      "collapsed_sections": []
    },
    "kernelspec": {
      "display_name": "Python 3",
      "name": "python3"
    }
  },
  "cells": [
    {
      "cell_type": "markdown",
      "metadata": {
        "id": "Qz-NhsIB_j72"
      },
      "source": [
        "Problem Statement: To predict the presence of amphibians species near the water reservoirs based on features obtained from GIS systems "
      ]
    },
    {
      "cell_type": "code",
      "metadata": {
        "id": "s8KFDHVE_ZGU",
        "colab": {
          "base_uri": "https://localhost:8080/"
        },
        "outputId": "cd68645f-e5f2-4371-9ec9-731be836e2b5"
      },
      "source": [
        "pip install keras-tuner"
      ],
      "execution_count": null,
      "outputs": [
        {
          "output_type": "stream",
          "text": [
            "Collecting keras-tuner\n",
            "\u001b[?25l  Downloading https://files.pythonhosted.org/packages/20/ec/1ef246787174b1e2bb591c95f29d3c1310070cad877824f907faba3dade9/keras-tuner-1.0.2.tar.gz (62kB)\n",
            "\r\u001b[K     |█████▏                          | 10kB 12.9MB/s eta 0:00:01\r\u001b[K     |██████████▍                     | 20kB 16.8MB/s eta 0:00:01\r\u001b[K     |███████████████▋                | 30kB 10.5MB/s eta 0:00:01\r\u001b[K     |████████████████████▉           | 40kB 9.3MB/s eta 0:00:01\r\u001b[K     |██████████████████████████      | 51kB 5.2MB/s eta 0:00:01\r\u001b[K     |███████████████████████████████▎| 61kB 5.7MB/s eta 0:00:01\r\u001b[K     |████████████████████████████████| 71kB 4.1MB/s \n",
            "\u001b[?25hRequirement already satisfied: packaging in /usr/local/lib/python3.7/dist-packages (from keras-tuner) (20.9)\n",
            "Requirement already satisfied: future in /usr/local/lib/python3.7/dist-packages (from keras-tuner) (0.16.0)\n",
            "Requirement already satisfied: numpy in /usr/local/lib/python3.7/dist-packages (from keras-tuner) (1.19.5)\n",
            "Requirement already satisfied: tabulate in /usr/local/lib/python3.7/dist-packages (from keras-tuner) (0.8.9)\n",
            "Collecting terminaltables\n",
            "  Downloading https://files.pythonhosted.org/packages/9b/c4/4a21174f32f8a7e1104798c445dacdc1d4df86f2f26722767034e4de4bff/terminaltables-3.1.0.tar.gz\n",
            "Collecting colorama\n",
            "  Downloading https://files.pythonhosted.org/packages/44/98/5b86278fbbf250d239ae0ecb724f8572af1c91f4a11edf4d36a206189440/colorama-0.4.4-py2.py3-none-any.whl\n",
            "Requirement already satisfied: tqdm in /usr/local/lib/python3.7/dist-packages (from keras-tuner) (4.41.1)\n",
            "Requirement already satisfied: requests in /usr/local/lib/python3.7/dist-packages (from keras-tuner) (2.23.0)\n",
            "Requirement already satisfied: scipy in /usr/local/lib/python3.7/dist-packages (from keras-tuner) (1.4.1)\n",
            "Requirement already satisfied: scikit-learn in /usr/local/lib/python3.7/dist-packages (from keras-tuner) (0.22.2.post1)\n",
            "Requirement already satisfied: pyparsing>=2.0.2 in /usr/local/lib/python3.7/dist-packages (from packaging->keras-tuner) (2.4.7)\n",
            "Requirement already satisfied: chardet<4,>=3.0.2 in /usr/local/lib/python3.7/dist-packages (from requests->keras-tuner) (3.0.4)\n",
            "Requirement already satisfied: certifi>=2017.4.17 in /usr/local/lib/python3.7/dist-packages (from requests->keras-tuner) (2020.12.5)\n",
            "Requirement already satisfied: idna<3,>=2.5 in /usr/local/lib/python3.7/dist-packages (from requests->keras-tuner) (2.10)\n",
            "Requirement already satisfied: urllib3!=1.25.0,!=1.25.1,<1.26,>=1.21.1 in /usr/local/lib/python3.7/dist-packages (from requests->keras-tuner) (1.24.3)\n",
            "Requirement already satisfied: joblib>=0.11 in /usr/local/lib/python3.7/dist-packages (from scikit-learn->keras-tuner) (1.0.1)\n",
            "Building wheels for collected packages: keras-tuner, terminaltables\n",
            "  Building wheel for keras-tuner (setup.py) ... \u001b[?25l\u001b[?25hdone\n",
            "  Created wheel for keras-tuner: filename=keras_tuner-1.0.2-cp37-none-any.whl size=78938 sha256=186887f7f6b4ec93386e3d68d1306f0ceb46dbfdcd4acd1c0c87888fe8b760dc\n",
            "  Stored in directory: /root/.cache/pip/wheels/bb/a1/8a/7c3de0efb3707a1701b36ebbfdbc4e67aedf6d4943a1f463d6\n",
            "  Building wheel for terminaltables (setup.py) ... \u001b[?25l\u001b[?25hdone\n",
            "  Created wheel for terminaltables: filename=terminaltables-3.1.0-cp37-none-any.whl size=15356 sha256=8ca818b91e44cf8a6bc45434bd05cdd4d1d9ac449796992b126eaf93063398ec\n",
            "  Stored in directory: /root/.cache/pip/wheels/30/6b/50/6c75775b681fb36cdfac7f19799888ef9d8813aff9e379663e\n",
            "Successfully built keras-tuner terminaltables\n",
            "Installing collected packages: terminaltables, colorama, keras-tuner\n",
            "Successfully installed colorama-0.4.4 keras-tuner-1.0.2 terminaltables-3.1.0\n"
          ],
          "name": "stdout"
        }
      ]
    },
    {
      "cell_type": "code",
      "metadata": {
        "id": "ejAR7N5frbft"
      },
      "source": [
        "import pandas as pd\n",
        "import numpy as np\n",
        "\n",
        "import matplotlib.pyplot as plt  \n",
        "import seaborn as sns            \n",
        "%matplotlib inline\n",
        "sns.set() "
      ],
      "execution_count": null,
      "outputs": []
    },
    {
      "cell_type": "code",
      "metadata": {
        "id": "_r0YEVucccOk",
        "colab": {
          "base_uri": "https://localhost:8080/"
        },
        "outputId": "d80e485e-a485-4c92-b7f6-0ce84de25050"
      },
      "source": [
        "from google.colab import drive\n",
        "drive.mount('/content/drive')"
      ],
      "execution_count": null,
      "outputs": [
        {
          "output_type": "stream",
          "text": [
            "Mounted at /content/drive\n"
          ],
          "name": "stdout"
        }
      ]
    },
    {
      "cell_type": "code",
      "metadata": {
        "id": "TeeL-SMJcecO",
        "colab": {
          "base_uri": "https://localhost:8080/"
        },
        "outputId": "c45bbe39-19c6-40cc-e0f1-e64c9cbdaccc"
      },
      "source": [
        "ls"
      ],
      "execution_count": null,
      "outputs": [
        {
          "output_type": "stream",
          "text": [
            "\u001b[0m\u001b[01;34mdrive\u001b[0m/  \u001b[01;34msample_data\u001b[0m/\n"
          ],
          "name": "stdout"
        }
      ]
    },
    {
      "cell_type": "code",
      "metadata": {
        "id": "qN1d0KpVkHf4",
        "colab": {
          "base_uri": "https://localhost:8080/"
        },
        "outputId": "029878da-3b4e-44fb-a848-524d25548af2"
      },
      "source": [
        "cd drive/"
      ],
      "execution_count": null,
      "outputs": [
        {
          "output_type": "stream",
          "text": [
            "/content/drive\n"
          ],
          "name": "stdout"
        }
      ]
    },
    {
      "cell_type": "code",
      "metadata": {
        "id": "c2DUnBgAlpIh",
        "colab": {
          "base_uri": "https://localhost:8080/"
        },
        "outputId": "8452911a-f0e0-482a-9c9e-16b2645d4172"
      },
      "source": [
        "cd MyDrive/"
      ],
      "execution_count": null,
      "outputs": [
        {
          "output_type": "stream",
          "text": [
            "/content/drive/MyDrive\n"
          ],
          "name": "stdout"
        }
      ]
    },
    {
      "cell_type": "code",
      "metadata": {
        "id": "GvSG3Cw6dJdr",
        "colab": {
          "base_uri": "https://localhost:8080/"
        },
        "outputId": "56d50e9f-a276-4640-842d-544ee10849f6"
      },
      "source": [
        "cd 'Colab Notebooks'/"
      ],
      "execution_count": null,
      "outputs": [
        {
          "output_type": "stream",
          "text": [
            "/content/drive/MyDrive/Colab Notebooks\n"
          ],
          "name": "stdout"
        }
      ]
    },
    {
      "cell_type": "code",
      "metadata": {
        "id": "XcXFyD6-eY1f"
      },
      "source": [
        "df = pd.read_csv('dataset.csv',sep = None, engine = 'python', index_col=0,header=1)"
      ],
      "execution_count": null,
      "outputs": []
    },
    {
      "cell_type": "code",
      "metadata": {
        "id": "5jvZk4RxfI3Z",
        "colab": {
          "base_uri": "https://localhost:8080/",
          "height": 178
        },
        "outputId": "1450ac0f-c0ed-4482-c993-c7a87ac48a27"
      },
      "source": [
        "df.head(2)"
      ],
      "execution_count": null,
      "outputs": [
        {
          "output_type": "execute_result",
          "data": {
            "text/html": [
              "<div>\n",
              "<style scoped>\n",
              "    .dataframe tbody tr th:only-of-type {\n",
              "        vertical-align: middle;\n",
              "    }\n",
              "\n",
              "    .dataframe tbody tr th {\n",
              "        vertical-align: top;\n",
              "    }\n",
              "\n",
              "    .dataframe thead th {\n",
              "        text-align: right;\n",
              "    }\n",
              "</style>\n",
              "<table border=\"1\" class=\"dataframe\">\n",
              "  <thead>\n",
              "    <tr style=\"text-align: right;\">\n",
              "      <th></th>\n",
              "      <th>Motorway</th>\n",
              "      <th>SR</th>\n",
              "      <th>NR</th>\n",
              "      <th>TR</th>\n",
              "      <th>VR</th>\n",
              "      <th>SUR1</th>\n",
              "      <th>SUR2</th>\n",
              "      <th>SUR3</th>\n",
              "      <th>UR</th>\n",
              "      <th>FR</th>\n",
              "      <th>OR</th>\n",
              "      <th>RR</th>\n",
              "      <th>BR</th>\n",
              "      <th>MR</th>\n",
              "      <th>CR</th>\n",
              "      <th>Green frogs</th>\n",
              "      <th>Brown frogs</th>\n",
              "      <th>Common toad</th>\n",
              "      <th>Fire-bellied toad</th>\n",
              "      <th>Tree frog</th>\n",
              "      <th>Common newt</th>\n",
              "      <th>Great crested newt</th>\n",
              "    </tr>\n",
              "    <tr>\n",
              "      <th>ID</th>\n",
              "      <th></th>\n",
              "      <th></th>\n",
              "      <th></th>\n",
              "      <th></th>\n",
              "      <th></th>\n",
              "      <th></th>\n",
              "      <th></th>\n",
              "      <th></th>\n",
              "      <th></th>\n",
              "      <th></th>\n",
              "      <th></th>\n",
              "      <th></th>\n",
              "      <th></th>\n",
              "      <th></th>\n",
              "      <th></th>\n",
              "      <th></th>\n",
              "      <th></th>\n",
              "      <th></th>\n",
              "      <th></th>\n",
              "      <th></th>\n",
              "      <th></th>\n",
              "      <th></th>\n",
              "    </tr>\n",
              "  </thead>\n",
              "  <tbody>\n",
              "    <tr>\n",
              "      <th>1</th>\n",
              "      <td>A1</td>\n",
              "      <td>600</td>\n",
              "      <td>1</td>\n",
              "      <td>1</td>\n",
              "      <td>4</td>\n",
              "      <td>6</td>\n",
              "      <td>2</td>\n",
              "      <td>10</td>\n",
              "      <td>0</td>\n",
              "      <td>0</td>\n",
              "      <td>50</td>\n",
              "      <td>0</td>\n",
              "      <td>0</td>\n",
              "      <td>0</td>\n",
              "      <td>1</td>\n",
              "      <td>0</td>\n",
              "      <td>0</td>\n",
              "      <td>0</td>\n",
              "      <td>0</td>\n",
              "      <td>0</td>\n",
              "      <td>0</td>\n",
              "      <td>0</td>\n",
              "    </tr>\n",
              "    <tr>\n",
              "      <th>2</th>\n",
              "      <td>A1</td>\n",
              "      <td>700</td>\n",
              "      <td>1</td>\n",
              "      <td>5</td>\n",
              "      <td>1</td>\n",
              "      <td>10</td>\n",
              "      <td>6</td>\n",
              "      <td>10</td>\n",
              "      <td>3</td>\n",
              "      <td>1</td>\n",
              "      <td>75</td>\n",
              "      <td>1</td>\n",
              "      <td>1</td>\n",
              "      <td>0</td>\n",
              "      <td>1</td>\n",
              "      <td>0</td>\n",
              "      <td>1</td>\n",
              "      <td>1</td>\n",
              "      <td>0</td>\n",
              "      <td>0</td>\n",
              "      <td>1</td>\n",
              "      <td>0</td>\n",
              "    </tr>\n",
              "  </tbody>\n",
              "</table>\n",
              "</div>"
            ],
            "text/plain": [
              "   Motorway   SR  NR  ...  Tree frog  Common newt  Great crested newt\n",
              "ID                    ...                                            \n",
              "1        A1  600   1  ...          0            0                   0\n",
              "2        A1  700   1  ...          0            1                   0\n",
              "\n",
              "[2 rows x 22 columns]"
            ]
          },
          "metadata": {
            "tags": []
          },
          "execution_count": 9
        }
      ]
    },
    {
      "cell_type": "code",
      "metadata": {
        "id": "p7Zasq7qfQMJ",
        "colab": {
          "base_uri": "https://localhost:8080/",
          "height": 272
        },
        "outputId": "db6979f8-0d8e-4f84-9f02-891629786337"
      },
      "source": [
        "df.tail(5)"
      ],
      "execution_count": null,
      "outputs": [
        {
          "output_type": "execute_result",
          "data": {
            "text/html": [
              "<div>\n",
              "<style scoped>\n",
              "    .dataframe tbody tr th:only-of-type {\n",
              "        vertical-align: middle;\n",
              "    }\n",
              "\n",
              "    .dataframe tbody tr th {\n",
              "        vertical-align: top;\n",
              "    }\n",
              "\n",
              "    .dataframe thead th {\n",
              "        text-align: right;\n",
              "    }\n",
              "</style>\n",
              "<table border=\"1\" class=\"dataframe\">\n",
              "  <thead>\n",
              "    <tr style=\"text-align: right;\">\n",
              "      <th></th>\n",
              "      <th>Motorway</th>\n",
              "      <th>SR</th>\n",
              "      <th>NR</th>\n",
              "      <th>TR</th>\n",
              "      <th>VR</th>\n",
              "      <th>SUR1</th>\n",
              "      <th>SUR2</th>\n",
              "      <th>SUR3</th>\n",
              "      <th>UR</th>\n",
              "      <th>FR</th>\n",
              "      <th>OR</th>\n",
              "      <th>RR</th>\n",
              "      <th>BR</th>\n",
              "      <th>MR</th>\n",
              "      <th>CR</th>\n",
              "      <th>Green frogs</th>\n",
              "      <th>Brown frogs</th>\n",
              "      <th>Common toad</th>\n",
              "      <th>Fire-bellied toad</th>\n",
              "      <th>Tree frog</th>\n",
              "      <th>Common newt</th>\n",
              "      <th>Great crested newt</th>\n",
              "    </tr>\n",
              "    <tr>\n",
              "      <th>ID</th>\n",
              "      <th></th>\n",
              "      <th></th>\n",
              "      <th></th>\n",
              "      <th></th>\n",
              "      <th></th>\n",
              "      <th></th>\n",
              "      <th></th>\n",
              "      <th></th>\n",
              "      <th></th>\n",
              "      <th></th>\n",
              "      <th></th>\n",
              "      <th></th>\n",
              "      <th></th>\n",
              "      <th></th>\n",
              "      <th></th>\n",
              "      <th></th>\n",
              "      <th></th>\n",
              "      <th></th>\n",
              "      <th></th>\n",
              "      <th></th>\n",
              "      <th></th>\n",
              "      <th></th>\n",
              "    </tr>\n",
              "  </thead>\n",
              "  <tbody>\n",
              "    <tr>\n",
              "      <th>185</th>\n",
              "      <td>S52</td>\n",
              "      <td>2300</td>\n",
              "      <td>1</td>\n",
              "      <td>12</td>\n",
              "      <td>3</td>\n",
              "      <td>2</td>\n",
              "      <td>2</td>\n",
              "      <td>1</td>\n",
              "      <td>0</td>\n",
              "      <td>0</td>\n",
              "      <td>75</td>\n",
              "      <td>2</td>\n",
              "      <td>1</td>\n",
              "      <td>0</td>\n",
              "      <td>1</td>\n",
              "      <td>0</td>\n",
              "      <td>1</td>\n",
              "      <td>0</td>\n",
              "      <td>0</td>\n",
              "      <td>0</td>\n",
              "      <td>0</td>\n",
              "      <td>0</td>\n",
              "    </tr>\n",
              "    <tr>\n",
              "      <th>186</th>\n",
              "      <td>S52</td>\n",
              "      <td>300</td>\n",
              "      <td>1</td>\n",
              "      <td>14</td>\n",
              "      <td>2</td>\n",
              "      <td>7</td>\n",
              "      <td>10</td>\n",
              "      <td>2</td>\n",
              "      <td>0</td>\n",
              "      <td>0</td>\n",
              "      <td>100</td>\n",
              "      <td>5</td>\n",
              "      <td>5</td>\n",
              "      <td>0</td>\n",
              "      <td>1</td>\n",
              "      <td>1</td>\n",
              "      <td>1</td>\n",
              "      <td>1</td>\n",
              "      <td>1</td>\n",
              "      <td>0</td>\n",
              "      <td>1</td>\n",
              "      <td>0</td>\n",
              "    </tr>\n",
              "    <tr>\n",
              "      <th>187</th>\n",
              "      <td>S52</td>\n",
              "      <td>500</td>\n",
              "      <td>1</td>\n",
              "      <td>1</td>\n",
              "      <td>4</td>\n",
              "      <td>1</td>\n",
              "      <td>10</td>\n",
              "      <td>2</td>\n",
              "      <td>0</td>\n",
              "      <td>0</td>\n",
              "      <td>100</td>\n",
              "      <td>5</td>\n",
              "      <td>5</td>\n",
              "      <td>0</td>\n",
              "      <td>1</td>\n",
              "      <td>1</td>\n",
              "      <td>1</td>\n",
              "      <td>1</td>\n",
              "      <td>1</td>\n",
              "      <td>0</td>\n",
              "      <td>1</td>\n",
              "      <td>0</td>\n",
              "    </tr>\n",
              "    <tr>\n",
              "      <th>188</th>\n",
              "      <td>S52</td>\n",
              "      <td>300</td>\n",
              "      <td>1</td>\n",
              "      <td>12</td>\n",
              "      <td>3</td>\n",
              "      <td>2</td>\n",
              "      <td>1</td>\n",
              "      <td>6</td>\n",
              "      <td>0</td>\n",
              "      <td>0</td>\n",
              "      <td>100</td>\n",
              "      <td>1</td>\n",
              "      <td>0</td>\n",
              "      <td>0</td>\n",
              "      <td>1</td>\n",
              "      <td>0</td>\n",
              "      <td>1</td>\n",
              "      <td>1</td>\n",
              "      <td>0</td>\n",
              "      <td>0</td>\n",
              "      <td>0</td>\n",
              "      <td>0</td>\n",
              "    </tr>\n",
              "    <tr>\n",
              "      <th>189</th>\n",
              "      <td>S52</td>\n",
              "      <td>300</td>\n",
              "      <td>1</td>\n",
              "      <td>12</td>\n",
              "      <td>3</td>\n",
              "      <td>2</td>\n",
              "      <td>6</td>\n",
              "      <td>10</td>\n",
              "      <td>0</td>\n",
              "      <td>0</td>\n",
              "      <td>100</td>\n",
              "      <td>1</td>\n",
              "      <td>1</td>\n",
              "      <td>0</td>\n",
              "      <td>1</td>\n",
              "      <td>0</td>\n",
              "      <td>1</td>\n",
              "      <td>1</td>\n",
              "      <td>0</td>\n",
              "      <td>0</td>\n",
              "      <td>0</td>\n",
              "      <td>0</td>\n",
              "    </tr>\n",
              "  </tbody>\n",
              "</table>\n",
              "</div>"
            ],
            "text/plain": [
              "    Motorway    SR  NR  ...  Tree frog  Common newt  Great crested newt\n",
              "ID                      ...                                            \n",
              "185      S52  2300   1  ...          0            0                   0\n",
              "186      S52   300   1  ...          0            1                   0\n",
              "187      S52   500   1  ...          0            1                   0\n",
              "188      S52   300   1  ...          0            0                   0\n",
              "189      S52   300   1  ...          0            0                   0\n",
              "\n",
              "[5 rows x 22 columns]"
            ]
          },
          "metadata": {
            "tags": []
          },
          "execution_count": 10
        }
      ]
    },
    {
      "cell_type": "code",
      "metadata": {
        "id": "9sh7nb5kf3_3",
        "colab": {
          "base_uri": "https://localhost:8080/"
        },
        "outputId": "94db4cb7-15f7-4859-a9cb-86d3fa67d2ed"
      },
      "source": [
        "df.shape"
      ],
      "execution_count": null,
      "outputs": [
        {
          "output_type": "execute_result",
          "data": {
            "text/plain": [
              "(189, 22)"
            ]
          },
          "metadata": {
            "tags": []
          },
          "execution_count": 11
        }
      ]
    },
    {
      "cell_type": "code",
      "metadata": {
        "id": "QL5TfBkQjSuj",
        "colab": {
          "base_uri": "https://localhost:8080/"
        },
        "outputId": "1f26e79f-48a7-4d1c-dbcf-ef2cc2ba32de"
      },
      "source": [
        "df.info"
      ],
      "execution_count": null,
      "outputs": [
        {
          "output_type": "execute_result",
          "data": {
            "text/plain": [
              "<bound method DataFrame.info of     Motorway    SR  NR  ...  Tree frog  Common newt  Great crested newt\n",
              "ID                      ...                                            \n",
              "1         A1   600   1  ...          0            0                   0\n",
              "2         A1   700   1  ...          0            1                   0\n",
              "3         A1   200   1  ...          0            1                   0\n",
              "4         A1   300   1  ...          0            0                   0\n",
              "5         A1   600   2  ...          0            1                   1\n",
              "..       ...   ...  ..  ...        ...          ...                 ...\n",
              "185      S52  2300   1  ...          0            0                   0\n",
              "186      S52   300   1  ...          0            1                   0\n",
              "187      S52   500   1  ...          0            1                   0\n",
              "188      S52   300   1  ...          0            0                   0\n",
              "189      S52   300   1  ...          0            0                   0\n",
              "\n",
              "[189 rows x 22 columns]>"
            ]
          },
          "metadata": {
            "tags": []
          },
          "execution_count": 12
        }
      ]
    },
    {
      "cell_type": "code",
      "metadata": {
        "id": "sbXOKY9rjVJN",
        "colab": {
          "base_uri": "https://localhost:8080/"
        },
        "outputId": "eaad2d78-2de1-48d4-fb48-2ae6b6eb132f"
      },
      "source": [
        "cols = df.columns.tolist()\n",
        "cols"
      ],
      "execution_count": null,
      "outputs": [
        {
          "output_type": "execute_result",
          "data": {
            "text/plain": [
              "['Motorway',\n",
              " 'SR',\n",
              " 'NR',\n",
              " 'TR',\n",
              " 'VR',\n",
              " 'SUR1',\n",
              " 'SUR2',\n",
              " 'SUR3',\n",
              " 'UR',\n",
              " 'FR',\n",
              " 'OR',\n",
              " 'RR',\n",
              " 'BR',\n",
              " 'MR',\n",
              " 'CR',\n",
              " 'Green frogs',\n",
              " 'Brown frogs',\n",
              " 'Common toad',\n",
              " 'Fire-bellied toad',\n",
              " 'Tree frog',\n",
              " 'Common newt',\n",
              " 'Great crested newt']"
            ]
          },
          "metadata": {
            "tags": []
          },
          "execution_count": 13
        }
      ]
    },
    {
      "cell_type": "code",
      "metadata": {
        "id": "IPQj18GcjbjI",
        "colab": {
          "base_uri": "https://localhost:8080/"
        },
        "outputId": "324c5955-e617-444c-ff37-0d0023ccb66d"
      },
      "source": [
        "df['Green frogs'].value_counts()"
      ],
      "execution_count": null,
      "outputs": [
        {
          "output_type": "execute_result",
          "data": {
            "text/plain": [
              "1    108\n",
              "0     81\n",
              "Name: Green frogs, dtype: int64"
            ]
          },
          "metadata": {
            "tags": []
          },
          "execution_count": 14
        }
      ]
    },
    {
      "cell_type": "code",
      "metadata": {
        "id": "g4KDRrKujeSJ",
        "colab": {
          "base_uri": "https://localhost:8080/"
        },
        "outputId": "dce75cba-5fbd-4d5e-fd9f-6a249772bc53"
      },
      "source": [
        "df['Brown frogs'].value_counts()"
      ],
      "execution_count": null,
      "outputs": [
        {
          "output_type": "execute_result",
          "data": {
            "text/plain": [
              "1    148\n",
              "0     41\n",
              "Name: Brown frogs, dtype: int64"
            ]
          },
          "metadata": {
            "tags": []
          },
          "execution_count": 15
        }
      ]
    },
    {
      "cell_type": "code",
      "metadata": {
        "id": "jxAxzrKkjgmy",
        "colab": {
          "base_uri": "https://localhost:8080/"
        },
        "outputId": "5f1fb802-26a7-43ec-9d84-30bafe1d6054"
      },
      "source": [
        "df['Common toad'].value_counts()"
      ],
      "execution_count": null,
      "outputs": [
        {
          "output_type": "execute_result",
          "data": {
            "text/plain": [
              "1    124\n",
              "0     65\n",
              "Name: Common toad, dtype: int64"
            ]
          },
          "metadata": {
            "tags": []
          },
          "execution_count": 16
        }
      ]
    },
    {
      "cell_type": "code",
      "metadata": {
        "id": "T7cZjsmfmitF",
        "colab": {
          "base_uri": "https://localhost:8080/"
        },
        "outputId": "c3a062ec-f41a-41f0-bc8c-45678fd4aec4"
      },
      "source": [
        "df['Fire-bellied toad'].value_counts()"
      ],
      "execution_count": null,
      "outputs": [
        {
          "output_type": "execute_result",
          "data": {
            "text/plain": [
              "0    131\n",
              "1     58\n",
              "Name: Fire-bellied toad, dtype: int64"
            ]
          },
          "metadata": {
            "tags": []
          },
          "execution_count": 17
        }
      ]
    },
    {
      "cell_type": "code",
      "metadata": {
        "id": "mHMk5nO_mlk3",
        "colab": {
          "base_uri": "https://localhost:8080/"
        },
        "outputId": "2986b69e-8e2c-452d-c5e9-2c5cbc44acbe"
      },
      "source": [
        "df['Tree frog'].value_counts()"
      ],
      "execution_count": null,
      "outputs": [
        {
          "output_type": "execute_result",
          "data": {
            "text/plain": [
              "0    118\n",
              "1     71\n",
              "Name: Tree frog, dtype: int64"
            ]
          },
          "metadata": {
            "tags": []
          },
          "execution_count": 18
        }
      ]
    },
    {
      "cell_type": "code",
      "metadata": {
        "id": "n9QbFk0nmvlB",
        "colab": {
          "base_uri": "https://localhost:8080/"
        },
        "outputId": "c8bbadfd-016e-4481-ca39-652227fdf16d"
      },
      "source": [
        "df['Great crested newt'].value_counts()"
      ],
      "execution_count": null,
      "outputs": [
        {
          "output_type": "execute_result",
          "data": {
            "text/plain": [
              "0    168\n",
              "1     21\n",
              "Name: Great crested newt, dtype: int64"
            ]
          },
          "metadata": {
            "tags": []
          },
          "execution_count": 19
        }
      ]
    },
    {
      "cell_type": "code",
      "metadata": {
        "id": "C8sp7_S-myOO",
        "colab": {
          "base_uri": "https://localhost:8080/"
        },
        "outputId": "2aedb689-1f9f-4500-ad60-a482ee4553a0"
      },
      "source": [
        "df.SR.unique()"
      ],
      "execution_count": null,
      "outputs": [
        {
          "output_type": "execute_result",
          "data": {
            "text/plain": [
              "array([   600,    700,    200,    300,    500,    750,   7000,   1700,\n",
              "         8000,  30000,   1600,   3800,   2500,    800,   4500,   1000,\n",
              "         3300,   2100,    400,   1100,    100,  80000,  31000,  25000,\n",
              "        40000,   1900,     30,   4300,   4000,   1500,  28300,     50,\n",
              "         9000,  19300,   3500,   9100,   1300,   2000,  10050,  16000,\n",
              "         5000,  10000,  29000,   8250,    250, 500000,  50000,    450,\n",
              "         8300,   1800,    150,    900,   3000,    350,   6300,   3400,\n",
              "         2400, 115000, 360000,   4100,   2300,  15000,   2600,  26000,\n",
              "         1400,  22000])"
            ]
          },
          "metadata": {
            "tags": []
          },
          "execution_count": 20
        }
      ]
    },
    {
      "cell_type": "code",
      "metadata": {
        "id": "M87XXYOum0mN",
        "colab": {
          "base_uri": "https://localhost:8080/"
        },
        "outputId": "5d358fec-7ba5-468e-ba06-d2cde3c33fa7"
      },
      "source": [
        "df.TR.unique()"
      ],
      "execution_count": null,
      "outputs": [
        {
          "output_type": "execute_result",
          "data": {
            "text/plain": [
              "array([ 1,  5, 12, 14, 15, 11,  2,  7])"
            ]
          },
          "metadata": {
            "tags": []
          },
          "execution_count": 21
        }
      ]
    },
    {
      "cell_type": "code",
      "metadata": {
        "id": "1DBRg6pYm21T",
        "colab": {
          "base_uri": "https://localhost:8080/"
        },
        "outputId": "91d747d4-7fd4-42d7-925c-a1dfeaa9120e"
      },
      "source": [
        "df.VR.unique()"
      ],
      "execution_count": null,
      "outputs": [
        {
          "output_type": "execute_result",
          "data": {
            "text/plain": [
              "array([4, 1, 0, 2, 3])"
            ]
          },
          "metadata": {
            "tags": []
          },
          "execution_count": 22
        }
      ]
    },
    {
      "cell_type": "code",
      "metadata": {
        "id": "2jFmP_n8m5C-",
        "colab": {
          "base_uri": "https://localhost:8080/"
        },
        "outputId": "db6cf43c-0665-4e33-c42f-716b66067eb4"
      },
      "source": [
        "df.Motorway.unique()"
      ],
      "execution_count": null,
      "outputs": [
        {
          "output_type": "execute_result",
          "data": {
            "text/plain": [
              "array(['A1', 'S52'], dtype=object)"
            ]
          },
          "metadata": {
            "tags": []
          },
          "execution_count": 23
        }
      ]
    },
    {
      "cell_type": "code",
      "metadata": {
        "id": "3GamgWsDm7Tg",
        "colab": {
          "base_uri": "https://localhost:8080/",
          "height": 475
        },
        "outputId": "d28d172c-e2eb-486c-fb5b-116060369849"
      },
      "source": [
        "df.groupby(['Motorway'])['SR'].count().plot(kind='bar', figsize=(20, 7), color='orange')"
      ],
      "execution_count": null,
      "outputs": [
        {
          "output_type": "execute_result",
          "data": {
            "text/plain": [
              "<matplotlib.axes._subplots.AxesSubplot at 0x7f144b7bbad0>"
            ]
          },
          "metadata": {
            "tags": []
          },
          "execution_count": 24
        },
        {
          "output_type": "display_data",
          "data": {
            "image/png": "[encoded data removed]",
            "text/plain": [
              "<Figure size 1440x504 with 1 Axes>"
            ]
          },
          "metadata": {
            "tags": []
          }
        }
      ]
    },
    {
      "cell_type": "code",
      "metadata": {
        "id": "cOjSL4SNm99x",
        "colab": {
          "base_uri": "https://localhost:8080/",
          "height": 455
        },
        "outputId": "91ed0d02-1ad0-4f8e-e090-ee878dbc9baf"
      },
      "source": [
        "df_new = df[['Motorway','Green frogs','Brown frogs','Common toad','Fire-bellied toad','Tree frog','Common newt','Great crested newt']]\n",
        "df_new"
      ],
      "execution_count": null,
      "outputs": [
        {
          "output_type": "execute_result",
          "data": {
            "text/html": [
              "<div>\n",
              "<style scoped>\n",
              "    .dataframe tbody tr th:only-of-type {\n",
              "        vertical-align: middle;\n",
              "    }\n",
              "\n",
              "    .dataframe tbody tr th {\n",
              "        vertical-align: top;\n",
              "    }\n",
              "\n",
              "    .dataframe thead th {\n",
              "        text-align: right;\n",
              "    }\n",
              "</style>\n",
              "<table border=\"1\" class=\"dataframe\">\n",
              "  <thead>\n",
              "    <tr style=\"text-align: right;\">\n",
              "      <th></th>\n",
              "      <th>Motorway</th>\n",
              "      <th>Green frogs</th>\n",
              "      <th>Brown frogs</th>\n",
              "      <th>Common toad</th>\n",
              "      <th>Fire-bellied toad</th>\n",
              "      <th>Tree frog</th>\n",
              "      <th>Common newt</th>\n",
              "      <th>Great crested newt</th>\n",
              "    </tr>\n",
              "    <tr>\n",
              "      <th>ID</th>\n",
              "      <th></th>\n",
              "      <th></th>\n",
              "      <th></th>\n",
              "      <th></th>\n",
              "      <th></th>\n",
              "      <th></th>\n",
              "      <th></th>\n",
              "      <th></th>\n",
              "    </tr>\n",
              "  </thead>\n",
              "  <tbody>\n",
              "    <tr>\n",
              "      <th>1</th>\n",
              "      <td>A1</td>\n",
              "      <td>0</td>\n",
              "      <td>0</td>\n",
              "      <td>0</td>\n",
              "      <td>0</td>\n",
              "      <td>0</td>\n",
              "      <td>0</td>\n",
              "      <td>0</td>\n",
              "    </tr>\n",
              "    <tr>\n",
              "      <th>2</th>\n",
              "      <td>A1</td>\n",
              "      <td>0</td>\n",
              "      <td>1</td>\n",
              "      <td>1</td>\n",
              "      <td>0</td>\n",
              "      <td>0</td>\n",
              "      <td>1</td>\n",
              "      <td>0</td>\n",
              "    </tr>\n",
              "    <tr>\n",
              "      <th>3</th>\n",
              "      <td>A1</td>\n",
              "      <td>0</td>\n",
              "      <td>1</td>\n",
              "      <td>1</td>\n",
              "      <td>0</td>\n",
              "      <td>0</td>\n",
              "      <td>1</td>\n",
              "      <td>0</td>\n",
              "    </tr>\n",
              "    <tr>\n",
              "      <th>4</th>\n",
              "      <td>A1</td>\n",
              "      <td>0</td>\n",
              "      <td>0</td>\n",
              "      <td>1</td>\n",
              "      <td>0</td>\n",
              "      <td>0</td>\n",
              "      <td>0</td>\n",
              "      <td>0</td>\n",
              "    </tr>\n",
              "    <tr>\n",
              "      <th>5</th>\n",
              "      <td>A1</td>\n",
              "      <td>0</td>\n",
              "      <td>1</td>\n",
              "      <td>1</td>\n",
              "      <td>1</td>\n",
              "      <td>0</td>\n",
              "      <td>1</td>\n",
              "      <td>1</td>\n",
              "    </tr>\n",
              "    <tr>\n",
              "      <th>...</th>\n",
              "      <td>...</td>\n",
              "      <td>...</td>\n",
              "      <td>...</td>\n",
              "      <td>...</td>\n",
              "      <td>...</td>\n",
              "      <td>...</td>\n",
              "      <td>...</td>\n",
              "      <td>...</td>\n",
              "    </tr>\n",
              "    <tr>\n",
              "      <th>185</th>\n",
              "      <td>S52</td>\n",
              "      <td>0</td>\n",
              "      <td>1</td>\n",
              "      <td>0</td>\n",
              "      <td>0</td>\n",
              "      <td>0</td>\n",
              "      <td>0</td>\n",
              "      <td>0</td>\n",
              "    </tr>\n",
              "    <tr>\n",
              "      <th>186</th>\n",
              "      <td>S52</td>\n",
              "      <td>1</td>\n",
              "      <td>1</td>\n",
              "      <td>1</td>\n",
              "      <td>1</td>\n",
              "      <td>0</td>\n",
              "      <td>1</td>\n",
              "      <td>0</td>\n",
              "    </tr>\n",
              "    <tr>\n",
              "      <th>187</th>\n",
              "      <td>S52</td>\n",
              "      <td>1</td>\n",
              "      <td>1</td>\n",
              "      <td>1</td>\n",
              "      <td>1</td>\n",
              "      <td>0</td>\n",
              "      <td>1</td>\n",
              "      <td>0</td>\n",
              "    </tr>\n",
              "    <tr>\n",
              "      <th>188</th>\n",
              "      <td>S52</td>\n",
              "      <td>0</td>\n",
              "      <td>1</td>\n",
              "      <td>1</td>\n",
              "      <td>0</td>\n",
              "      <td>0</td>\n",
              "      <td>0</td>\n",
              "      <td>0</td>\n",
              "    </tr>\n",
              "    <tr>\n",
              "      <th>189</th>\n",
              "      <td>S52</td>\n",
              "      <td>0</td>\n",
              "      <td>1</td>\n",
              "      <td>1</td>\n",
              "      <td>0</td>\n",
              "      <td>0</td>\n",
              "      <td>0</td>\n",
              "      <td>0</td>\n",
              "    </tr>\n",
              "  </tbody>\n",
              "</table>\n",
              "<p>189 rows × 8 columns</p>\n",
              "</div>"
            ],
            "text/plain": [
              "    Motorway  Green frogs  ...  Common newt  Great crested newt\n",
              "ID                         ...                                 \n",
              "1         A1            0  ...            0                   0\n",
              "2         A1            0  ...            1                   0\n",
              "3         A1            0  ...            1                   0\n",
              "4         A1            0  ...            0                   0\n",
              "5         A1            0  ...            1                   1\n",
              "..       ...          ...  ...          ...                 ...\n",
              "185      S52            0  ...            0                   0\n",
              "186      S52            1  ...            1                   0\n",
              "187      S52            1  ...            1                   0\n",
              "188      S52            0  ...            0                   0\n",
              "189      S52            0  ...            0                   0\n",
              "\n",
              "[189 rows x 8 columns]"
            ]
          },
          "metadata": {
            "tags": []
          },
          "execution_count": 25
        }
      ]
    },
    {
      "cell_type": "code",
      "metadata": {
        "id": "PiHRSydJnAm-",
        "colab": {
          "base_uri": "https://localhost:8080/",
          "height": 368
        },
        "outputId": "af0a0d5f-4970-4565-df32-6dbd19876bf0"
      },
      "source": [
        "df_new.groupby('Motorway').sum().plot(kind='bar',figsize=(15,5))"
      ],
      "execution_count": null,
      "outputs": [
        {
          "output_type": "execute_result",
          "data": {
            "text/plain": [
              "<matplotlib.axes._subplots.AxesSubplot at 0x7f144b706b10>"
            ]
          },
          "metadata": {
            "tags": []
          },
          "execution_count": 26
        },
        {
          "output_type": "display_data",
          "data": {
            "image/png": "[encoded data removed]",
            "text/plain": [
              "<Figure size 1080x360 with 1 Axes>"
            ]
          },
          "metadata": {
            "tags": []
          }
        }
      ]
    },
    {
      "cell_type": "markdown",
      "metadata": {
        "id": "VheafuPendYj"
      },
      "source": [
        "**S52 Motorway has richer population of amphibians than A1 Motorway**"
      ]
    },
    {
      "cell_type": "code",
      "metadata": {
        "id": "1BSVJBNJnD6F",
        "colab": {
          "base_uri": "https://localhost:8080/",
          "height": 455
        },
        "outputId": "3ce54c8f-fedc-4b95-85cd-ffcbc6bb4bff"
      },
      "source": [
        "df_SR = df[['SR','Green frogs','Brown frogs','Common toad','Fire-bellied toad','Tree frog','Common newt','Great crested newt']]\n",
        "df_SR"
      ],
      "execution_count": null,
      "outputs": [
        {
          "output_type": "execute_result",
          "data": {
            "text/html": [
              "<div>\n",
              "<style scoped>\n",
              "    .dataframe tbody tr th:only-of-type {\n",
              "        vertical-align: middle;\n",
              "    }\n",
              "\n",
              "    .dataframe tbody tr th {\n",
              "        vertical-align: top;\n",
              "    }\n",
              "\n",
              "    .dataframe thead th {\n",
              "        text-align: right;\n",
              "    }\n",
              "</style>\n",
              "<table border=\"1\" class=\"dataframe\">\n",
              "  <thead>\n",
              "    <tr style=\"text-align: right;\">\n",
              "      <th></th>\n",
              "      <th>SR</th>\n",
              "      <th>Green frogs</th>\n",
              "      <th>Brown frogs</th>\n",
              "      <th>Common toad</th>\n",
              "      <th>Fire-bellied toad</th>\n",
              "      <th>Tree frog</th>\n",
              "      <th>Common newt</th>\n",
              "      <th>Great crested newt</th>\n",
              "    </tr>\n",
              "    <tr>\n",
              "      <th>ID</th>\n",
              "      <th></th>\n",
              "      <th></th>\n",
              "      <th></th>\n",
              "      <th></th>\n",
              "      <th></th>\n",
              "      <th></th>\n",
              "      <th></th>\n",
              "      <th></th>\n",
              "    </tr>\n",
              "  </thead>\n",
              "  <tbody>\n",
              "    <tr>\n",
              "      <th>1</th>\n",
              "      <td>600</td>\n",
              "      <td>0</td>\n",
              "      <td>0</td>\n",
              "      <td>0</td>\n",
              "      <td>0</td>\n",
              "      <td>0</td>\n",
              "      <td>0</td>\n",
              "      <td>0</td>\n",
              "    </tr>\n",
              "    <tr>\n",
              "      <th>2</th>\n",
              "      <td>700</td>\n",
              "      <td>0</td>\n",
              "      <td>1</td>\n",
              "      <td>1</td>\n",
              "      <td>0</td>\n",
              "      <td>0</td>\n",
              "      <td>1</td>\n",
              "      <td>0</td>\n",
              "    </tr>\n",
              "    <tr>\n",
              "      <th>3</th>\n",
              "      <td>200</td>\n",
              "      <td>0</td>\n",
              "      <td>1</td>\n",
              "      <td>1</td>\n",
              "      <td>0</td>\n",
              "      <td>0</td>\n",
              "      <td>1</td>\n",
              "      <td>0</td>\n",
              "    </tr>\n",
              "    <tr>\n",
              "      <th>4</th>\n",
              "      <td>300</td>\n",
              "      <td>0</td>\n",
              "      <td>0</td>\n",
              "      <td>1</td>\n",
              "      <td>0</td>\n",
              "      <td>0</td>\n",
              "      <td>0</td>\n",
              "      <td>0</td>\n",
              "    </tr>\n",
              "    <tr>\n",
              "      <th>5</th>\n",
              "      <td>600</td>\n",
              "      <td>0</td>\n",
              "      <td>1</td>\n",
              "      <td>1</td>\n",
              "      <td>1</td>\n",
              "      <td>0</td>\n",
              "      <td>1</td>\n",
              "      <td>1</td>\n",
              "    </tr>\n",
              "    <tr>\n",
              "      <th>...</th>\n",
              "      <td>...</td>\n",
              "      <td>...</td>\n",
              "      <td>...</td>\n",
              "      <td>...</td>\n",
              "      <td>...</td>\n",
              "      <td>...</td>\n",
              "      <td>...</td>\n",
              "      <td>...</td>\n",
              "    </tr>\n",
              "    <tr>\n",
              "      <th>185</th>\n",
              "      <td>2300</td>\n",
              "      <td>0</td>\n",
              "      <td>1</td>\n",
              "      <td>0</td>\n",
              "      <td>0</td>\n",
              "      <td>0</td>\n",
              "      <td>0</td>\n",
              "      <td>0</td>\n",
              "    </tr>\n",
              "    <tr>\n",
              "      <th>186</th>\n",
              "      <td>300</td>\n",
              "      <td>1</td>\n",
              "      <td>1</td>\n",
              "      <td>1</td>\n",
              "      <td>1</td>\n",
              "      <td>0</td>\n",
              "      <td>1</td>\n",
              "      <td>0</td>\n",
              "    </tr>\n",
              "    <tr>\n",
              "      <th>187</th>\n",
              "      <td>500</td>\n",
              "      <td>1</td>\n",
              "      <td>1</td>\n",
              "      <td>1</td>\n",
              "      <td>1</td>\n",
              "      <td>0</td>\n",
              "      <td>1</td>\n",
              "      <td>0</td>\n",
              "    </tr>\n",
              "    <tr>\n",
              "      <th>188</th>\n",
              "      <td>300</td>\n",
              "      <td>0</td>\n",
              "      <td>1</td>\n",
              "      <td>1</td>\n",
              "      <td>0</td>\n",
              "      <td>0</td>\n",
              "      <td>0</td>\n",
              "      <td>0</td>\n",
              "    </tr>\n",
              "    <tr>\n",
              "      <th>189</th>\n",
              "      <td>300</td>\n",
              "      <td>0</td>\n",
              "      <td>1</td>\n",
              "      <td>1</td>\n",
              "      <td>0</td>\n",
              "      <td>0</td>\n",
              "      <td>0</td>\n",
              "      <td>0</td>\n",
              "    </tr>\n",
              "  </tbody>\n",
              "</table>\n",
              "<p>189 rows × 8 columns</p>\n",
              "</div>"
            ],
            "text/plain": [
              "       SR  Green frogs  Brown frogs  ...  Tree frog  Common newt  Great crested newt\n",
              "ID                                   ...                                            \n",
              "1     600            0            0  ...          0            0                   0\n",
              "2     700            0            1  ...          0            1                   0\n",
              "3     200            0            1  ...          0            1                   0\n",
              "4     300            0            0  ...          0            0                   0\n",
              "5     600            0            1  ...          0            1                   1\n",
              "..    ...          ...          ...  ...        ...          ...                 ...\n",
              "185  2300            0            1  ...          0            0                   0\n",
              "186   300            1            1  ...          0            1                   0\n",
              "187   500            1            1  ...          0            1                   0\n",
              "188   300            0            1  ...          0            0                   0\n",
              "189   300            0            1  ...          0            0                   0\n",
              "\n",
              "[189 rows x 8 columns]"
            ]
          },
          "metadata": {
            "tags": []
          },
          "execution_count": 27
        }
      ]
    },
    {
      "cell_type": "code",
      "metadata": {
        "id": "kDPrkY2inVR5",
        "colab": {
          "base_uri": "https://localhost:8080/",
          "height": 498
        },
        "outputId": "6305980f-2d99-49af-c340-6bcc280e739f"
      },
      "source": [
        "df_SR.groupby('SR').sum().plot(kind='bar',figsize=(15,7))"
      ],
      "execution_count": null,
      "outputs": [
        {
          "output_type": "execute_result",
          "data": {
            "text/plain": [
              "<matplotlib.axes._subplots.AxesSubplot at 0x7f144b2070d0>"
            ]
          },
          "metadata": {
            "tags": []
          },
          "execution_count": 28
        },
        {
          "output_type": "display_data",
          "data": {
            "image/png": "[encoded data removed]",
            "text/plain": [
              "<Figure size 1080x504 with 1 Axes>"
            ]
          },
          "metadata": {
            "tags": []
          }
        }
      ]
    },
    {
      "cell_type": "code",
      "metadata": {
        "id": "z68pFP5jno-j",
        "colab": {
          "base_uri": "https://localhost:8080/",
          "height": 522
        },
        "outputId": "5c4ae445-abb9-4df9-b1a1-9c6f15053a5a"
      },
      "source": [
        "df_SR['SR'].value_counts().plot.bar(figsize=(15,7), colormap='Dark2', fontsize=13, yticks=np.arange(0, 19, 2))\n",
        "\n",
        "# Using matplotlib to add labels and title to the plot. \n",
        "# Pandas and matplotlib are linked with each other in the notebook by the use of this line in the Imports: %matplotlib inline\n",
        "\n",
        "plt.xlabel('SR')\n",
        "plt.ylabel('Number of SR')\n",
        "plt.title('Bar Chart showing the Frequency of SR for each SR value') "
      ],
      "execution_count": null,
      "outputs": [
        {
          "output_type": "execute_result",
          "data": {
            "text/plain": [
              "Text(0.5, 1.0, 'Bar Chart showing the Frequency of SR for each SR value')"
            ]
          },
          "metadata": {
            "tags": []
          },
          "execution_count": 29
        },
        {
          "output_type": "display_data",
          "data": {
            "image/png": "[encoded data removed]",
            "text/plain": [
              "<Figure size 1080x504 with 1 Axes>"
            ]
          },
          "metadata": {
            "tags": []
          }
        }
      ]
    },
    {
      "cell_type": "markdown",
      "metadata": {
        "id": "xa7k6lPUAiHX"
      },
      "source": [
        "SR value 300 has repeated most of the times ie. SR 300 has more amphibians "
      ]
    },
    {
      "cell_type": "code",
      "metadata": {
        "id": "dTu8HQy1nu_P",
        "colab": {
          "base_uri": "https://localhost:8080/",
          "height": 506
        },
        "outputId": "0d7b6d81-ab6f-48ab-b4e4-1af7228bbbc3"
      },
      "source": [
        "df_SR.groupby(['SR'])['Green frogs'].mean().plot(kind='bar', figsize=(20, 7), color='orange')\n",
        "df_SR.groupby(['SR'])['Brown frogs'].mean().plot(kind='bar', figsize=(20, 7), color='grey')\n",
        "df_SR.groupby(['SR'])['Common toad'].mean().plot(kind='bar', figsize=(20, 7), color='red')\n",
        "df_SR.groupby(['SR'])['Fire-bellied toad'].mean().plot(kind='bar', figsize=(20, 7), color='yellow')\n",
        "df_SR.groupby(['SR'])['Tree frog'].mean().plot(kind='bar', figsize=(20, 7), color='pink')\n",
        "df_SR.groupby(['SR'])['Common newt'].mean().plot(kind='bar', figsize=(20, 7), color='magenta')\n",
        "df_SR.groupby(['SR'])['Great crested newt'].mean().plot(kind='bar', figsize=(20, 7), color='green')\n",
        "                      \n",
        "plt.xlabel('SR')\n",
        "plt.ylabel('Amphibians')\n",
        "plt.title('Stacked Bar Chart showing the amphibians near each SR')\n",
        "plt.legend(labels=('Green frogs','Brown frogs','Common toad','Fire-bellied toad','Tree frog','Common newt','Great crested newt'))"
      ],
      "execution_count": null,
      "outputs": [
        {
          "output_type": "execute_result",
          "data": {
            "text/plain": [
              "<matplotlib.legend.Legend at 0x7f144adf5610>"
            ]
          },
          "metadata": {
            "tags": []
          },
          "execution_count": 30
        },
        {
          "output_type": "display_data",
          "data": {
            "image/png": "[encoded data removed]",
            "text/plain": [
              "<Figure size 1440x504 with 1 Axes>"
            ]
          },
          "metadata": {
            "tags": []
          }
        }
      ]
    },
    {
      "cell_type": "markdown",
      "metadata": {
        "id": "AFziSjYHn2fq"
      },
      "source": [
        "This is distrbution of amphibians according to Surface area. We can see that there are some surface areas where only one type of amphibian population is seen. There are other factors also which influence their population"
      ]
    },
    {
      "cell_type": "code",
      "metadata": {
        "id": "jMRcSZ-Anyzz",
        "colab": {
          "base_uri": "https://localhost:8080/",
          "height": 455
        },
        "outputId": "97ab91f3-3ab5-4688-eba2-01c2cb9d2ed1"
      },
      "source": [
        "df_TR = df[['TR','Green frogs','Brown frogs','Common toad','Fire-bellied toad','Tree frog','Common newt','Great crested newt']]\n",
        "df_TR"
      ],
      "execution_count": null,
      "outputs": [
        {
          "output_type": "execute_result",
          "data": {
            "text/html": [
              "<div>\n",
              "<style scoped>\n",
              "    .dataframe tbody tr th:only-of-type {\n",
              "        vertical-align: middle;\n",
              "    }\n",
              "\n",
              "    .dataframe tbody tr th {\n",
              "        vertical-align: top;\n",
              "    }\n",
              "\n",
              "    .dataframe thead th {\n",
              "        text-align: right;\n",
              "    }\n",
              "</style>\n",
              "<table border=\"1\" class=\"dataframe\">\n",
              "  <thead>\n",
              "    <tr style=\"text-align: right;\">\n",
              "      <th></th>\n",
              "      <th>TR</th>\n",
              "      <th>Green frogs</th>\n",
              "      <th>Brown frogs</th>\n",
              "      <th>Common toad</th>\n",
              "      <th>Fire-bellied toad</th>\n",
              "      <th>Tree frog</th>\n",
              "      <th>Common newt</th>\n",
              "      <th>Great crested newt</th>\n",
              "    </tr>\n",
              "    <tr>\n",
              "      <th>ID</th>\n",
              "      <th></th>\n",
              "      <th></th>\n",
              "      <th></th>\n",
              "      <th></th>\n",
              "      <th></th>\n",
              "      <th></th>\n",
              "      <th></th>\n",
              "      <th></th>\n",
              "    </tr>\n",
              "  </thead>\n",
              "  <tbody>\n",
              "    <tr>\n",
              "      <th>1</th>\n",
              "      <td>1</td>\n",
              "      <td>0</td>\n",
              "      <td>0</td>\n",
              "      <td>0</td>\n",
              "      <td>0</td>\n",
              "      <td>0</td>\n",
              "      <td>0</td>\n",
              "      <td>0</td>\n",
              "    </tr>\n",
              "    <tr>\n",
              "      <th>2</th>\n",
              "      <td>5</td>\n",
              "      <td>0</td>\n",
              "      <td>1</td>\n",
              "      <td>1</td>\n",
              "      <td>0</td>\n",
              "      <td>0</td>\n",
              "      <td>1</td>\n",
              "      <td>0</td>\n",
              "    </tr>\n",
              "    <tr>\n",
              "      <th>3</th>\n",
              "      <td>5</td>\n",
              "      <td>0</td>\n",
              "      <td>1</td>\n",
              "      <td>1</td>\n",
              "      <td>0</td>\n",
              "      <td>0</td>\n",
              "      <td>1</td>\n",
              "      <td>0</td>\n",
              "    </tr>\n",
              "    <tr>\n",
              "      <th>4</th>\n",
              "      <td>5</td>\n",
              "      <td>0</td>\n",
              "      <td>0</td>\n",
              "      <td>1</td>\n",
              "      <td>0</td>\n",
              "      <td>0</td>\n",
              "      <td>0</td>\n",
              "      <td>0</td>\n",
              "    </tr>\n",
              "    <tr>\n",
              "      <th>5</th>\n",
              "      <td>1</td>\n",
              "      <td>0</td>\n",
              "      <td>1</td>\n",
              "      <td>1</td>\n",
              "      <td>1</td>\n",
              "      <td>0</td>\n",
              "      <td>1</td>\n",
              "      <td>1</td>\n",
              "    </tr>\n",
              "    <tr>\n",
              "      <th>...</th>\n",
              "      <td>...</td>\n",
              "      <td>...</td>\n",
              "      <td>...</td>\n",
              "      <td>...</td>\n",
              "      <td>...</td>\n",
              "      <td>...</td>\n",
              "      <td>...</td>\n",
              "      <td>...</td>\n",
              "    </tr>\n",
              "    <tr>\n",
              "      <th>185</th>\n",
              "      <td>12</td>\n",
              "      <td>0</td>\n",
              "      <td>1</td>\n",
              "      <td>0</td>\n",
              "      <td>0</td>\n",
              "      <td>0</td>\n",
              "      <td>0</td>\n",
              "      <td>0</td>\n",
              "    </tr>\n",
              "    <tr>\n",
              "      <th>186</th>\n",
              "      <td>14</td>\n",
              "      <td>1</td>\n",
              "      <td>1</td>\n",
              "      <td>1</td>\n",
              "      <td>1</td>\n",
              "      <td>0</td>\n",
              "      <td>1</td>\n",
              "      <td>0</td>\n",
              "    </tr>\n",
              "    <tr>\n",
              "      <th>187</th>\n",
              "      <td>1</td>\n",
              "      <td>1</td>\n",
              "      <td>1</td>\n",
              "      <td>1</td>\n",
              "      <td>1</td>\n",
              "      <td>0</td>\n",
              "      <td>1</td>\n",
              "      <td>0</td>\n",
              "    </tr>\n",
              "    <tr>\n",
              "      <th>188</th>\n",
              "      <td>12</td>\n",
              "      <td>0</td>\n",
              "      <td>1</td>\n",
              "      <td>1</td>\n",
              "      <td>0</td>\n",
              "      <td>0</td>\n",
              "      <td>0</td>\n",
              "      <td>0</td>\n",
              "    </tr>\n",
              "    <tr>\n",
              "      <th>189</th>\n",
              "      <td>12</td>\n",
              "      <td>0</td>\n",
              "      <td>1</td>\n",
              "      <td>1</td>\n",
              "      <td>0</td>\n",
              "      <td>0</td>\n",
              "      <td>0</td>\n",
              "      <td>0</td>\n",
              "    </tr>\n",
              "  </tbody>\n",
              "</table>\n",
              "<p>189 rows × 8 columns</p>\n",
              "</div>"
            ],
            "text/plain": [
              "     TR  Green frogs  Brown frogs  ...  Tree frog  Common newt  Great crested newt\n",
              "ID                                 ...                                            \n",
              "1     1            0            0  ...          0            0                   0\n",
              "2     5            0            1  ...          0            1                   0\n",
              "3     5            0            1  ...          0            1                   0\n",
              "4     5            0            0  ...          0            0                   0\n",
              "5     1            0            1  ...          0            1                   1\n",
              "..   ..          ...          ...  ...        ...          ...                 ...\n",
              "185  12            0            1  ...          0            0                   0\n",
              "186  14            1            1  ...          0            1                   0\n",
              "187   1            1            1  ...          0            1                   0\n",
              "188  12            0            1  ...          0            0                   0\n",
              "189  12            0            1  ...          0            0                   0\n",
              "\n",
              "[189 rows x 8 columns]"
            ]
          },
          "metadata": {
            "tags": []
          },
          "execution_count": 31
        }
      ]
    },
    {
      "cell_type": "code",
      "metadata": {
        "id": "uJFFjdrMn9DJ",
        "colab": {
          "base_uri": "https://localhost:8080/",
          "height": 480
        },
        "outputId": "bcf23e04-91eb-46e0-fb8f-1b48298b6bd9"
      },
      "source": [
        "df_TR.groupby(['TR'])['Green frogs'].sum().plot(kind='bar', figsize=(20, 7), color='orange')\n",
        "df_TR.groupby(['TR'])['Brown frogs'].sum().plot(kind='bar', figsize=(20, 7), color='grey')\n",
        "df_TR.groupby(['TR'])['Common toad'].sum().plot(kind='bar', figsize=(20, 7), color='red')\n",
        "df_TR.groupby(['TR'])['Fire-bellied toad'].sum().plot(kind='bar', figsize=(20, 7), color='yellow')\n",
        "df_TR.groupby(['TR'])['Tree frog'].sum().plot(kind='bar', figsize=(20, 7), color='pink')\n",
        "df_TR.groupby(['TR'])['Common newt'].sum().plot(kind='bar', figsize=(20, 7), color='magenta')\n",
        "df_TR.groupby(['TR'])['Great crested newt'].sum().plot(kind='bar', figsize=(20, 7), color='green')\n",
        "                      \n",
        "plt.xlabel('Type of reservoir')\n",
        "plt.ylabel('Amphibians')\n",
        "plt.title('Stacked Bar Chart showing the amphibians near each Type of reservoir')\n",
        "plt.legend(labels=('Green frogs','Brown frogs','Common toad','Fire-bellied toad','Tree frog','Common newt','Great crested newt'))"
      ],
      "execution_count": null,
      "outputs": [
        {
          "output_type": "execute_result",
          "data": {
            "text/plain": [
              "<matplotlib.legend.Legend at 0x7f144a4f1f50>"
            ]
          },
          "metadata": {
            "tags": []
          },
          "execution_count": 32
        },
        {
          "output_type": "display_data",
          "data": {
            "image/png": "[encoded data removed]",
            "text/plain": [
              "<Figure size 1440x504 with 1 Axes>"
            ]
          },
          "metadata": {
            "tags": []
          }
        }
      ]
    },
    {
      "cell_type": "markdown",
      "metadata": {
        "id": "Xa1jtOC4oG4E"
      },
      "source": [
        "How type of reservoir is influencing the type of amphibian found near it can be understood from this plot. Type 7 and Type 11 are the only reservoirs where only one type of amphibian is found Great crested newt and Tree frog respectively. Common toad is found almost everywhere except 7 and 11 types.\n",
        "As Green frogs and Fire-bellied frogs are not seen here their population must be very small compared to the others So let's have a separate plot showing distribution of these two types of frogs according to TR"
      ]
    },
    {
      "cell_type": "code",
      "metadata": {
        "id": "zBl7Z4-NoDTX",
        "colab": {
          "base_uri": "https://localhost:8080/",
          "height": 480
        },
        "outputId": "97616ebb-f35b-48f4-8b40-8239f4757e67"
      },
      "source": [
        "df_TR.groupby(['TR'])['Green frogs'].sum().plot(kind='bar', figsize=(20, 7), color='orange')\n",
        "df_TR.groupby(['TR'])['Fire-bellied toad'].sum().plot(kind='bar', figsize=(20, 7), color='yellow')\n",
        "\n",
        "plt.xlabel('Type of reservoir')\n",
        "plt.ylabel('Amphibians')\n",
        "plt.title('Stacked Bar Chart showing the amphibians near each Type of reservoir')\n",
        "plt.legend(labels=('Green frogs','Fire-bellied toad'))"
      ],
      "execution_count": 112,
      "outputs": [
        {
          "output_type": "execute_result",
          "data": {
            "text/plain": [
              "<matplotlib.legend.Legend at 0x7f144b860150>"
            ]
          },
          "metadata": {
            "tags": []
          },
          "execution_count": 112
        },
        {
          "output_type": "display_data",
          "data": {
            "image/png": "[encoded data removed]",
            "text/plain": [
              "<Figure size 1440x504 with 1 Axes>"
            ]
          },
          "metadata": {
            "tags": []
          }
        }
      ]
    },
    {
      "cell_type": "code",
      "metadata": {
        "id": "CyF8afc8oQlw"
      },
      "source": [
        "df_TR1 = df_TR[df_TR['TR']==1]"
      ],
      "execution_count": null,
      "outputs": []
    },
    {
      "cell_type": "code",
      "metadata": {
        "id": "_dJhyMymoTZw",
        "colab": {
          "base_uri": "https://localhost:8080/",
          "height": 283
        },
        "outputId": "03f1045f-1ec0-462a-982c-44858b1ba0ac"
      },
      "source": [
        "df_TR1['Green frogs'].value_counts().plot(kind='bar')"
      ],
      "execution_count": null,
      "outputs": [
        {
          "output_type": "execute_result",
          "data": {
            "text/plain": [
              "<matplotlib.axes._subplots.AxesSubplot at 0x7f1449697190>"
            ]
          },
          "metadata": {
            "tags": []
          },
          "execution_count": 35
        },
        {
          "output_type": "display_data",
          "data": {
            "image/png": "[encoded data removed]",
            "text/plain": [
              "<Figure size 432x288 with 1 Axes>"
            ]
          },
          "metadata": {
            "tags": []
          }
        }
      ]
    },
    {
      "cell_type": "code",
      "metadata": {
        "id": "lsssE1YJoVs0",
        "colab": {
          "base_uri": "https://localhost:8080/"
        },
        "outputId": "bb3f9468-7088-4cc6-e12f-41f3e2a31985"
      },
      "source": [
        "df_TR1[['Green frogs','Brown frogs','Common toad','Fire-bellied toad','Tree frog','Common newt','Great crested newt']].eq(1).sum()"
      ],
      "execution_count": 110,
      "outputs": [
        {
          "output_type": "execute_result",
          "data": {
            "text/plain": [
              "Green frogs           84\n",
              "Brown frogs           93\n",
              "Common toad           86\n",
              "Fire-bellied toad     45\n",
              "Tree frog             54\n",
              "Common newt           47\n",
              "Great crested newt    19\n",
              "dtype: int64"
            ]
          },
          "metadata": {
            "tags": []
          },
          "execution_count": 110
        }
      ]
    },
    {
      "cell_type": "code",
      "metadata": {
        "id": "sy6Bfn7noYRx",
        "colab": {
          "base_uri": "https://localhost:8080/"
        },
        "outputId": "33dadec8-19ae-4a53-f009-d06320f084e0"
      },
      "source": [
        "df_TR2 = df_TR[df_TR['TR']==2]\n",
        "df_TR2[['Green frogs','Brown frogs','Common toad','Fire-bellied toad','Tree frog','Common newt','Great crested newt']].eq(1).sum()"
      ],
      "execution_count": 109,
      "outputs": [
        {
          "output_type": "execute_result",
          "data": {
            "text/plain": [
              "Green frogs           3\n",
              "Brown frogs           2\n",
              "Common toad           3\n",
              "Fire-bellied toad     0\n",
              "Tree frog             0\n",
              "Common newt           1\n",
              "Great crested newt    0\n",
              "dtype: int64"
            ]
          },
          "metadata": {
            "tags": []
          },
          "execution_count": 109
        }
      ]
    },
    {
      "cell_type": "code",
      "metadata": {
        "id": "fpWqxdwSobMr",
        "colab": {
          "base_uri": "https://localhost:8080/"
        },
        "outputId": "63e877d3-74cc-42f7-a732-d432e1dce6ea"
      },
      "source": [
        "df_TR5 = df_TR[df_TR['TR']== 5]\n",
        "df_TR5[['Green frogs','Brown frogs','Common toad','Fire-bellied toad','Tree frog','Common newt','Great crested newt']].eq(1).sum()"
      ],
      "execution_count": null,
      "outputs": [
        {
          "output_type": "execute_result",
          "data": {
            "text/plain": [
              "Green frogs           4\n",
              "Brown frogs           6\n",
              "Common toad           8\n",
              "Fire-bellied toad     2\n",
              "Tree frog             2\n",
              "Common newt           3\n",
              "Great crested newt    1\n",
              "dtype: int64"
            ]
          },
          "metadata": {
            "tags": []
          },
          "execution_count": 38
        }
      ]
    },
    {
      "cell_type": "code",
      "metadata": {
        "id": "ycPpv99pqKnE",
        "colab": {
          "base_uri": "https://localhost:8080/"
        },
        "outputId": "7815cc5b-faa9-4479-a06d-c2ab28b11d61"
      },
      "source": [
        "df_TR5 = df_TR[df_TR['TR']== 5]\n",
        "df_TR5[['Green frogs','Brown frogs','Common toad','Fire-bellied toad','Tree frog','Common newt','Great crested newt']].eq(1).sum()"
      ],
      "execution_count": null,
      "outputs": [
        {
          "output_type": "execute_result",
          "data": {
            "text/plain": [
              "Green frogs           4\n",
              "Brown frogs           6\n",
              "Common toad           8\n",
              "Fire-bellied toad     2\n",
              "Tree frog             2\n",
              "Common newt           3\n",
              "Great crested newt    1\n",
              "dtype: int64"
            ]
          },
          "metadata": {
            "tags": []
          },
          "execution_count": 39
        }
      ]
    },
    {
      "cell_type": "code",
      "metadata": {
        "id": "Ol36dv9gqY7F",
        "colab": {
          "base_uri": "https://localhost:8080/"
        },
        "outputId": "f4b7f32a-7fd1-40e0-99a4-9da726e9021c"
      },
      "source": [
        "df_TR7 = df_TR[df_TR['TR']== 7]\n",
        "df_TR7[['Green frogs','Brown frogs','Common toad','Fire-bellied toad','Tree frog','Common newt','Great crested newt']].eq(1).sum()"
      ],
      "execution_count": null,
      "outputs": [
        {
          "output_type": "execute_result",
          "data": {
            "text/plain": [
              "Green frogs           1\n",
              "Brown frogs           1\n",
              "Common toad           1\n",
              "Fire-bellied toad     1\n",
              "Tree frog             1\n",
              "Common newt           1\n",
              "Great crested newt    1\n",
              "dtype: int64"
            ]
          },
          "metadata": {
            "tags": []
          },
          "execution_count": 40
        }
      ]
    },
    {
      "cell_type": "code",
      "metadata": {
        "id": "kAft_qDMqcjs",
        "colab": {
          "base_uri": "https://localhost:8080/"
        },
        "outputId": "535e1daa-581d-47d1-f06b-4ce5b0c75cb2"
      },
      "source": [
        "df_TR11 = df_TR[df_TR['TR']== 11]\n",
        "df_TR11[['Green frogs','Brown frogs','Common toad','Fire-bellied toad','Tree frog','Common newt','Great crested newt']].eq(1).sum()"
      ],
      "execution_count": null,
      "outputs": [
        {
          "output_type": "execute_result",
          "data": {
            "text/plain": [
              "Green frogs           3\n",
              "Brown frogs           3\n",
              "Common toad           3\n",
              "Fire-bellied toad     1\n",
              "Tree frog             3\n",
              "Common newt           0\n",
              "Great crested newt    0\n",
              "dtype: int64"
            ]
          },
          "metadata": {
            "tags": []
          },
          "execution_count": 41
        }
      ]
    },
    {
      "cell_type": "code",
      "metadata": {
        "id": "Ek-VPSWlqfRy",
        "colab": {
          "base_uri": "https://localhost:8080/"
        },
        "outputId": "8598a04f-4900-4836-e601-a40e0eeccbe2"
      },
      "source": [
        "df_TR12 = df_TR[df_TR['TR']== 12]\n",
        "df_TR12[['Green frogs','Brown frogs','Common toad','Fire-bellied toad','Tree frog','Common newt','Great crested newt']].eq(1).sum()"
      ],
      "execution_count": null,
      "outputs": [
        {
          "output_type": "execute_result",
          "data": {
            "text/plain": [
              "Green frogs            6\n",
              "Brown frogs           20\n",
              "Common toad           10\n",
              "Fire-bellied toad      4\n",
              "Tree frog              6\n",
              "Common newt            2\n",
              "Great crested newt     0\n",
              "dtype: int64"
            ]
          },
          "metadata": {
            "tags": []
          },
          "execution_count": 42
        }
      ]
    },
    {
      "cell_type": "code",
      "metadata": {
        "id": "nFA9uY7Hqh_v",
        "colab": {
          "base_uri": "https://localhost:8080/"
        },
        "outputId": "fa9bfb4e-2485-4791-d203-3d271e49a684"
      },
      "source": [
        "df_TR14 = df_TR[df_TR['TR']== 14]\n",
        "df_TR14[['Green frogs','Brown frogs','Common toad','Fire-bellied toad','Tree frog','Common newt','Great crested newt']].eq(1).sum()"
      ],
      "execution_count": null,
      "outputs": [
        {
          "output_type": "execute_result",
          "data": {
            "text/plain": [
              "Green frogs            4\n",
              "Brown frogs           10\n",
              "Common toad            7\n",
              "Fire-bellied toad      3\n",
              "Tree frog              2\n",
              "Common newt            3\n",
              "Great crested newt     0\n",
              "dtype: int64"
            ]
          },
          "metadata": {
            "tags": []
          },
          "execution_count": 43
        }
      ]
    },
    {
      "cell_type": "code",
      "metadata": {
        "id": "NLu2VCEPqksN",
        "colab": {
          "base_uri": "https://localhost:8080/"
        },
        "outputId": "73f073e4-2533-4d6b-eb58-1503115dbfbd"
      },
      "source": [
        "df_TR15 = df_TR[df_TR['TR']== 15]\n",
        "df_TR15[['Green frogs','Brown frogs','Common toad','Fire-bellied toad','Tree frog','Common newt','Great crested newt']].eq(1).sum()"
      ],
      "execution_count": null,
      "outputs": [
        {
          "output_type": "execute_result",
          "data": {
            "text/plain": [
              "Green frogs            3\n",
              "Brown frogs           13\n",
              "Common toad            6\n",
              "Fire-bellied toad      2\n",
              "Tree frog              3\n",
              "Common newt            1\n",
              "Great crested newt     0\n",
              "dtype: int64"
            ]
          },
          "metadata": {
            "tags": []
          },
          "execution_count": 44
        }
      ]
    },
    {
      "cell_type": "markdown",
      "metadata": {
        "id": "BM-mSVPiqq_V"
      },
      "source": [
        "Reservoir 1 is most favorable for the amphibians while Reservoir 7 is the least favourable "
      ]
    },
    {
      "cell_type": "code",
      "metadata": {
        "id": "OKnG40uLqnL1",
        "colab": {
          "base_uri": "https://localhost:8080/",
          "height": 143
        },
        "outputId": "272c9926-5aef-4d6f-dbe3-1e0be9708ae9"
      },
      "source": [
        "df_VR = df[['VR','Green frogs','Brown frogs','Common toad','Fire-bellied toad','Tree frog','Common newt','Great crested newt']]\n",
        "df_VR.head(2)"
      ],
      "execution_count": null,
      "outputs": [
        {
          "output_type": "execute_result",
          "data": {
            "text/html": [
              "<div>\n",
              "<style scoped>\n",
              "    .dataframe tbody tr th:only-of-type {\n",
              "        vertical-align: middle;\n",
              "    }\n",
              "\n",
              "    .dataframe tbody tr th {\n",
              "        vertical-align: top;\n",
              "    }\n",
              "\n",
              "    .dataframe thead th {\n",
              "        text-align: right;\n",
              "    }\n",
              "</style>\n",
              "<table border=\"1\" class=\"dataframe\">\n",
              "  <thead>\n",
              "    <tr style=\"text-align: right;\">\n",
              "      <th></th>\n",
              "      <th>VR</th>\n",
              "      <th>Green frogs</th>\n",
              "      <th>Brown frogs</th>\n",
              "      <th>Common toad</th>\n",
              "      <th>Fire-bellied toad</th>\n",
              "      <th>Tree frog</th>\n",
              "      <th>Common newt</th>\n",
              "      <th>Great crested newt</th>\n",
              "    </tr>\n",
              "    <tr>\n",
              "      <th>ID</th>\n",
              "      <th></th>\n",
              "      <th></th>\n",
              "      <th></th>\n",
              "      <th></th>\n",
              "      <th></th>\n",
              "      <th></th>\n",
              "      <th></th>\n",
              "      <th></th>\n",
              "    </tr>\n",
              "  </thead>\n",
              "  <tbody>\n",
              "    <tr>\n",
              "      <th>1</th>\n",
              "      <td>4</td>\n",
              "      <td>0</td>\n",
              "      <td>0</td>\n",
              "      <td>0</td>\n",
              "      <td>0</td>\n",
              "      <td>0</td>\n",
              "      <td>0</td>\n",
              "      <td>0</td>\n",
              "    </tr>\n",
              "    <tr>\n",
              "      <th>2</th>\n",
              "      <td>1</td>\n",
              "      <td>0</td>\n",
              "      <td>1</td>\n",
              "      <td>1</td>\n",
              "      <td>0</td>\n",
              "      <td>0</td>\n",
              "      <td>1</td>\n",
              "      <td>0</td>\n",
              "    </tr>\n",
              "  </tbody>\n",
              "</table>\n",
              "</div>"
            ],
            "text/plain": [
              "    VR  Green frogs  Brown frogs  ...  Tree frog  Common newt  Great crested newt\n",
              "ID                                ...                                            \n",
              "1    4            0            0  ...          0            0                   0\n",
              "2    1            0            1  ...          0            1                   0\n",
              "\n",
              "[2 rows x 8 columns]"
            ]
          },
          "metadata": {
            "tags": []
          },
          "execution_count": 45
        }
      ]
    },
    {
      "cell_type": "code",
      "metadata": {
        "id": "ShgkhFFTquw0",
        "colab": {
          "base_uri": "https://localhost:8080/"
        },
        "outputId": "039f1f64-d21f-4b4d-964f-9e7fac1dcdf9"
      },
      "source": [
        "df_VR0 = df_VR[df_VR['VR']==0]\n",
        "df_VR0[['Green frogs','Brown frogs','Common toad','Fire-bellied toad','Tree frog','Common newt','Great crested newt']].eq(1).sum()"
      ],
      "execution_count": null,
      "outputs": [
        {
          "output_type": "execute_result",
          "data": {
            "text/plain": [
              "Green frogs           21\n",
              "Brown frogs           18\n",
              "Common toad           19\n",
              "Fire-bellied toad      5\n",
              "Tree frog              5\n",
              "Common newt            5\n",
              "Great crested newt     2\n",
              "dtype: int64"
            ]
          },
          "metadata": {
            "tags": []
          },
          "execution_count": 46
        }
      ]
    },
    {
      "cell_type": "code",
      "metadata": {
        "id": "U2FAaqwOqx9F",
        "colab": {
          "base_uri": "https://localhost:8080/"
        },
        "outputId": "b4c19a24-54b6-48db-8728-86c1bd3eeccd"
      },
      "source": [
        "df_VR1 = df_VR[df_VR['VR']==1]\n",
        "df_VR1[['Green frogs','Brown frogs','Common toad','Fire-bellied toad','Tree frog','Common newt','Great crested newt']].eq(1).sum()"
      ],
      "execution_count": null,
      "outputs": [
        {
          "output_type": "execute_result",
          "data": {
            "text/plain": [
              "Green frogs           29\n",
              "Brown frogs           45\n",
              "Common toad           38\n",
              "Fire-bellied toad     21\n",
              "Tree frog             23\n",
              "Common newt           20\n",
              "Great crested newt     7\n",
              "dtype: int64"
            ]
          },
          "metadata": {
            "tags": []
          },
          "execution_count": 47
        }
      ]
    },
    {
      "cell_type": "code",
      "metadata": {
        "id": "DspYgVvjq1aw",
        "colab": {
          "base_uri": "https://localhost:8080/"
        },
        "outputId": "9eb28fce-827d-4a97-e6cb-1b3385ea9845"
      },
      "source": [
        "df_VR2 = df_VR[df_VR['VR']==2]\n",
        "df_VR2[['Green frogs','Brown frogs','Common toad','Fire-bellied toad','Tree frog','Common newt','Great crested newt']].eq(1).sum()"
      ],
      "execution_count": null,
      "outputs": [
        {
          "output_type": "execute_result",
          "data": {
            "text/plain": [
              "Green frogs           21\n",
              "Brown frogs           29\n",
              "Common toad           22\n",
              "Fire-bellied toad     10\n",
              "Tree frog             11\n",
              "Common newt           13\n",
              "Great crested newt     2\n",
              "dtype: int64"
            ]
          },
          "metadata": {
            "tags": []
          },
          "execution_count": 48
        }
      ]
    },
    {
      "cell_type": "code",
      "metadata": {
        "id": "bV028p60q3_8",
        "colab": {
          "base_uri": "https://localhost:8080/"
        },
        "outputId": "7d92501d-ae9c-4a45-8c0e-5f5122654147"
      },
      "source": [
        "df_VR3 = df_VR[df_VR['VR']==3]\n",
        "df_VR3[['Green frogs','Brown frogs','Common toad','Fire-bellied toad','Tree frog','Common newt','Great crested newt']].eq(1).sum()"
      ],
      "execution_count": null,
      "outputs": [
        {
          "output_type": "execute_result",
          "data": {
            "text/plain": [
              "Green frogs           25\n",
              "Brown frogs           37\n",
              "Common toad           30\n",
              "Fire-bellied toad     13\n",
              "Tree frog             20\n",
              "Common newt           14\n",
              "Great crested newt     7\n",
              "dtype: int64"
            ]
          },
          "metadata": {
            "tags": []
          },
          "execution_count": 49
        }
      ]
    },
    {
      "cell_type": "code",
      "metadata": {
        "id": "N9ouS6Anq6Y2",
        "colab": {
          "base_uri": "https://localhost:8080/"
        },
        "outputId": "7c2e9bd8-2165-4656-9184-bde555a866b1"
      },
      "source": [
        "df_VR4 = df_VR[df_VR['VR']==4]\n",
        "df_VR4[['Green frogs','Brown frogs','Common toad','Fire-bellied toad','Tree frog','Common newt','Great crested newt']].eq(1).sum()"
      ],
      "execution_count": null,
      "outputs": [
        {
          "output_type": "execute_result",
          "data": {
            "text/plain": [
              "Green frogs           12\n",
              "Brown frogs           19\n",
              "Common toad           15\n",
              "Fire-bellied toad      9\n",
              "Tree frog             12\n",
              "Common newt            6\n",
              "Great crested newt     3\n",
              "dtype: int64"
            ]
          },
          "metadata": {
            "tags": []
          },
          "execution_count": 50
        }
      ]
    },
    {
      "cell_type": "markdown",
      "metadata": {
        "id": "5KBkvYKAiZGA"
      },
      "source": [
        "Except for VR0 all are densely populated. Good vegetation favours the habitat of amphibians"
      ]
    },
    {
      "cell_type": "code",
      "metadata": {
        "id": "3gnyfzI2WV_S",
        "colab": {
          "base_uri": "https://localhost:8080/"
        },
        "outputId": "70d68eec-db18-48e5-d6ef-917d57001a1b"
      },
      "source": [
        "df.OR.unique()"
      ],
      "execution_count": null,
      "outputs": [
        {
          "output_type": "execute_result",
          "data": {
            "text/plain": [
              "array([ 50,  75,  25,  99, 100,  80])"
            ]
          },
          "metadata": {
            "tags": []
          },
          "execution_count": 51
        }
      ]
    },
    {
      "cell_type": "code",
      "metadata": {
        "id": "tzdHdSZXWoNG"
      },
      "source": [
        "df['OR'].replace(25, 0,inplace=True)\n",
        "df['OR'].replace(50, 1,inplace=True)\n",
        "df['OR'].replace(75, 2,inplace=True)\n",
        "df['OR'].replace(80, 3,inplace=True)\n",
        "df['OR'].replace(99, 4,inplace=True)\n",
        "df['OR'].replace(100, 5,inplace=True)"
      ],
      "execution_count": null,
      "outputs": []
    },
    {
      "cell_type": "code",
      "metadata": {
        "id": "04LzxIWCq8xV"
      },
      "source": [
        "df['Motorway'].replace('A1', 0,inplace=True)\n",
        "df['Motorway'].replace('S52', 1,inplace=True)"
      ],
      "execution_count": null,
      "outputs": []
    },
    {
      "cell_type": "code",
      "metadata": {
        "id": "DbmUtA1EPKHO"
      },
      "source": [
        "dfn = df.drop(['Motorway'],axis=1)"
      ],
      "execution_count": null,
      "outputs": []
    },
    {
      "cell_type": "code",
      "metadata": {
        "id": "BRJY8MGhq_sl"
      },
      "source": [
        "X = dfn.iloc[:,1:14]\n",
        "y = dfn.iloc[:,14:]"
      ],
      "execution_count": null,
      "outputs": []
    },
    {
      "cell_type": "code",
      "metadata": {
        "id": "iD5MOYfhrCCm",
        "colab": {
          "base_uri": "https://localhost:8080/",
          "height": 143
        },
        "outputId": "2d48efc7-5cba-4dd0-c56d-af7455b37a95"
      },
      "source": [
        "X.head(2)"
      ],
      "execution_count": null,
      "outputs": [
        {
          "output_type": "execute_result",
          "data": {
            "text/html": [
              "<div>\n",
              "<style scoped>\n",
              "    .dataframe tbody tr th:only-of-type {\n",
              "        vertical-align: middle;\n",
              "    }\n",
              "\n",
              "    .dataframe tbody tr th {\n",
              "        vertical-align: top;\n",
              "    }\n",
              "\n",
              "    .dataframe thead th {\n",
              "        text-align: right;\n",
              "    }\n",
              "</style>\n",
              "<table border=\"1\" class=\"dataframe\">\n",
              "  <thead>\n",
              "    <tr style=\"text-align: right;\">\n",
              "      <th></th>\n",
              "      <th>NR</th>\n",
              "      <th>TR</th>\n",
              "      <th>VR</th>\n",
              "      <th>SUR1</th>\n",
              "      <th>SUR2</th>\n",
              "      <th>SUR3</th>\n",
              "      <th>UR</th>\n",
              "      <th>FR</th>\n",
              "      <th>OR</th>\n",
              "      <th>RR</th>\n",
              "      <th>BR</th>\n",
              "      <th>MR</th>\n",
              "      <th>CR</th>\n",
              "    </tr>\n",
              "    <tr>\n",
              "      <th>ID</th>\n",
              "      <th></th>\n",
              "      <th></th>\n",
              "      <th></th>\n",
              "      <th></th>\n",
              "      <th></th>\n",
              "      <th></th>\n",
              "      <th></th>\n",
              "      <th></th>\n",
              "      <th></th>\n",
              "      <th></th>\n",
              "      <th></th>\n",
              "      <th></th>\n",
              "      <th></th>\n",
              "    </tr>\n",
              "  </thead>\n",
              "  <tbody>\n",
              "    <tr>\n",
              "      <th>1</th>\n",
              "      <td>1</td>\n",
              "      <td>1</td>\n",
              "      <td>4</td>\n",
              "      <td>6</td>\n",
              "      <td>2</td>\n",
              "      <td>10</td>\n",
              "      <td>0</td>\n",
              "      <td>0</td>\n",
              "      <td>1</td>\n",
              "      <td>0</td>\n",
              "      <td>0</td>\n",
              "      <td>0</td>\n",
              "      <td>1</td>\n",
              "    </tr>\n",
              "    <tr>\n",
              "      <th>2</th>\n",
              "      <td>1</td>\n",
              "      <td>5</td>\n",
              "      <td>1</td>\n",
              "      <td>10</td>\n",
              "      <td>6</td>\n",
              "      <td>10</td>\n",
              "      <td>3</td>\n",
              "      <td>1</td>\n",
              "      <td>2</td>\n",
              "      <td>1</td>\n",
              "      <td>1</td>\n",
              "      <td>0</td>\n",
              "      <td>1</td>\n",
              "    </tr>\n",
              "  </tbody>\n",
              "</table>\n",
              "</div>"
            ],
            "text/plain": [
              "    NR  TR  VR  SUR1  SUR2  SUR3  UR  FR  OR  RR  BR  MR  CR\n",
              "ID                                                          \n",
              "1    1   1   4     6     2    10   0   0   1   0   0   0   1\n",
              "2    1   5   1    10     6    10   3   1   2   1   1   0   1"
            ]
          },
          "metadata": {
            "tags": []
          },
          "execution_count": 56
        }
      ]
    },
    {
      "cell_type": "code",
      "metadata": {
        "id": "28lCppRGrEuD",
        "colab": {
          "base_uri": "https://localhost:8080/",
          "height": 143
        },
        "outputId": "5ce79e90-4092-42ff-adb1-4e0815fe2ffe"
      },
      "source": [
        "y.head(2)"
      ],
      "execution_count": null,
      "outputs": [
        {
          "output_type": "execute_result",
          "data": {
            "text/html": [
              "<div>\n",
              "<style scoped>\n",
              "    .dataframe tbody tr th:only-of-type {\n",
              "        vertical-align: middle;\n",
              "    }\n",
              "\n",
              "    .dataframe tbody tr th {\n",
              "        vertical-align: top;\n",
              "    }\n",
              "\n",
              "    .dataframe thead th {\n",
              "        text-align: right;\n",
              "    }\n",
              "</style>\n",
              "<table border=\"1\" class=\"dataframe\">\n",
              "  <thead>\n",
              "    <tr style=\"text-align: right;\">\n",
              "      <th></th>\n",
              "      <th>Green frogs</th>\n",
              "      <th>Brown frogs</th>\n",
              "      <th>Common toad</th>\n",
              "      <th>Fire-bellied toad</th>\n",
              "      <th>Tree frog</th>\n",
              "      <th>Common newt</th>\n",
              "      <th>Great crested newt</th>\n",
              "    </tr>\n",
              "    <tr>\n",
              "      <th>ID</th>\n",
              "      <th></th>\n",
              "      <th></th>\n",
              "      <th></th>\n",
              "      <th></th>\n",
              "      <th></th>\n",
              "      <th></th>\n",
              "      <th></th>\n",
              "    </tr>\n",
              "  </thead>\n",
              "  <tbody>\n",
              "    <tr>\n",
              "      <th>1</th>\n",
              "      <td>0</td>\n",
              "      <td>0</td>\n",
              "      <td>0</td>\n",
              "      <td>0</td>\n",
              "      <td>0</td>\n",
              "      <td>0</td>\n",
              "      <td>0</td>\n",
              "    </tr>\n",
              "    <tr>\n",
              "      <th>2</th>\n",
              "      <td>0</td>\n",
              "      <td>1</td>\n",
              "      <td>1</td>\n",
              "      <td>0</td>\n",
              "      <td>0</td>\n",
              "      <td>1</td>\n",
              "      <td>0</td>\n",
              "    </tr>\n",
              "  </tbody>\n",
              "</table>\n",
              "</div>"
            ],
            "text/plain": [
              "    Green frogs  Brown frogs  ...  Common newt  Great crested newt\n",
              "ID                            ...                                 \n",
              "1             0            0  ...            0                   0\n",
              "2             0            1  ...            1                   0\n",
              "\n",
              "[2 rows x 7 columns]"
            ]
          },
          "metadata": {
            "tags": []
          },
          "execution_count": 57
        }
      ]
    },
    {
      "cell_type": "code",
      "metadata": {
        "id": "RQUy1kljrHo2",
        "colab": {
          "base_uri": "https://localhost:8080/"
        },
        "outputId": "7063441a-b6ba-4715-fc08-b68368ceb0b2"
      },
      "source": [
        "from sklearn.model_selection import train_test_split\n",
        "x_train,x_test,y_train,y_test=train_test_split(X,y,test_size = 0.3, random_state = 1)\n",
        "print('Train cases as below')\n",
        "print('x_train shape: ',x_train.shape)\n",
        "print('y_train shape: ',y_train.shape)\n",
        "print('\\nTest cases as below')\n",
        "print('x_test shape: ',x_test.shape)\n",
        "print('y_test shape: ',y_test.shape)"
      ],
      "execution_count": null,
      "outputs": [
        {
          "output_type": "stream",
          "text": [
            "Train cases as below\n",
            "x_train shape:  (132, 13)\n",
            "y_train shape:  (132, 7)\n",
            "\n",
            "Test cases as below\n",
            "x_test shape:  (57, 13)\n",
            "y_test shape:  (57, 7)\n"
          ],
          "name": "stdout"
        }
      ]
    },
    {
      "cell_type": "code",
      "metadata": {
        "id": "hd8R9Zb1rLzl"
      },
      "source": [
        "import requests\n",
        "import re\n",
        "import seaborn"
      ],
      "execution_count": null,
      "outputs": []
    },
    {
      "cell_type": "code",
      "metadata": {
        "id": "vPYntfesrOW0"
      },
      "source": [
        "from sklearn.model_selection import cross_val_score\n",
        "from sklearn.model_selection import KFold\n",
        "from sklearn.preprocessing import LabelEncoder\n",
        "from sklearn.pipeline import Pipeline"
      ],
      "execution_count": null,
      "outputs": []
    },
    {
      "cell_type": "code",
      "metadata": {
        "id": "RYxqRb7qrQ3e"
      },
      "source": [
        "from tensorflow.keras.models import Sequential\n",
        "from tensorflow.keras.layers import Dense\n",
        "from tensorflow.keras.wrappers.scikit_learn import KerasClassifier"
      ],
      "execution_count": null,
      "outputs": []
    },
    {
      "cell_type": "markdown",
      "metadata": {
        "id": "ub9_W6sArswO"
      },
      "source": [
        "1) A simple model with 2 HL"
      ]
    },
    {
      "cell_type": "code",
      "metadata": {
        "id": "u8f6Uvzlqfy9"
      },
      "source": [
        "# define the keras model\n",
        "model = Sequential()\n",
        "model.add(Dense(500, input_dim=13, activation='relu'))\n",
        "model.add(Dense(250,  activation='relu'))\n",
        "model.add(Dense(7, activation='softmax'))"
      ],
      "execution_count": null,
      "outputs": []
    },
    {
      "cell_type": "code",
      "metadata": {
        "id": "zY81dkC1qzGS"
      },
      "source": [
        "model.compile(loss='categorical_crossentropy', optimizer='adam', metrics=['accuracy'])"
      ],
      "execution_count": null,
      "outputs": []
    },
    {
      "cell_type": "code",
      "metadata": {
        "id": "lPZfmTC-qpWL"
      },
      "source": [
        "#Training the model\n",
        "history = model.fit(x_train, y_train, epochs=100, batch_size=100,verbose=0)"
      ],
      "execution_count": null,
      "outputs": []
    },
    {
      "cell_type": "code",
      "metadata": {
        "colab": {
          "base_uri": "https://localhost:8080/"
        },
        "id": "0ysFXpu0q289",
        "outputId": "11cddcc9-e1b0-46ad-8545-4241ae375a0a"
      },
      "source": [
        "y_pred = model.predict(x_test)\n",
        "y_pred"
      ],
      "execution_count": null,
      "outputs": [
        {
          "output_type": "execute_result",
          "data": {
            "text/plain": [
              "array([[2.18097006e-23, 2.51103075e-21, 1.00000000e+00, 0.00000000e+00,\n",
              "        0.00000000e+00, 0.00000000e+00, 0.00000000e+00],\n",
              "       [0.00000000e+00, 0.00000000e+00, 1.00000000e+00, 0.00000000e+00,\n",
              "        0.00000000e+00, 0.00000000e+00, 0.00000000e+00],\n",
              "       [2.88152679e-28, 2.61971364e-25, 1.00000000e+00, 0.00000000e+00,\n",
              "        0.00000000e+00, 0.00000000e+00, 0.00000000e+00],\n",
              "       [1.59517553e-38, 1.97095528e-34, 1.00000000e+00, 0.00000000e+00,\n",
              "        0.00000000e+00, 0.00000000e+00, 0.00000000e+00],\n",
              "       [2.57602056e-33, 4.11027718e-30, 1.00000000e+00, 0.00000000e+00,\n",
              "        0.00000000e+00, 0.00000000e+00, 0.00000000e+00],\n",
              "       [1.45023918e-35, 1.33160917e-31, 1.00000000e+00, 0.00000000e+00,\n",
              "        0.00000000e+00, 0.00000000e+00, 0.00000000e+00],\n",
              "       [0.00000000e+00, 7.42268605e-35, 1.00000000e+00, 0.00000000e+00,\n",
              "        0.00000000e+00, 0.00000000e+00, 0.00000000e+00],\n",
              "       [0.00000000e+00, 0.00000000e+00, 1.00000000e+00, 0.00000000e+00,\n",
              "        0.00000000e+00, 0.00000000e+00, 0.00000000e+00],\n",
              "       [0.00000000e+00, 2.85569022e-36, 1.00000000e+00, 0.00000000e+00,\n",
              "        0.00000000e+00, 0.00000000e+00, 0.00000000e+00],\n",
              "       [4.61855037e-34, 3.22619371e-30, 1.00000000e+00, 0.00000000e+00,\n",
              "        0.00000000e+00, 0.00000000e+00, 0.00000000e+00],\n",
              "       [0.00000000e+00, 0.00000000e+00, 1.00000000e+00, 0.00000000e+00,\n",
              "        0.00000000e+00, 0.00000000e+00, 0.00000000e+00],\n",
              "       [0.00000000e+00, 4.22043654e-36, 1.00000000e+00, 0.00000000e+00,\n",
              "        0.00000000e+00, 0.00000000e+00, 0.00000000e+00],\n",
              "       [0.00000000e+00, 0.00000000e+00, 1.00000000e+00, 0.00000000e+00,\n",
              "        0.00000000e+00, 0.00000000e+00, 0.00000000e+00],\n",
              "       [0.00000000e+00, 2.61658687e-33, 1.00000000e+00, 0.00000000e+00,\n",
              "        0.00000000e+00, 0.00000000e+00, 0.00000000e+00],\n",
              "       [4.56883305e-28, 3.88683897e-25, 1.00000000e+00, 0.00000000e+00,\n",
              "        0.00000000e+00, 0.00000000e+00, 0.00000000e+00],\n",
              "       [0.00000000e+00, 5.65876644e-34, 1.00000000e+00, 0.00000000e+00,\n",
              "        0.00000000e+00, 0.00000000e+00, 0.00000000e+00],\n",
              "       [0.00000000e+00, 0.00000000e+00, 1.00000000e+00, 0.00000000e+00,\n",
              "        0.00000000e+00, 0.00000000e+00, 0.00000000e+00],\n",
              "       [0.00000000e+00, 0.00000000e+00, 1.00000000e+00, 0.00000000e+00,\n",
              "        0.00000000e+00, 0.00000000e+00, 0.00000000e+00],\n",
              "       [4.44830740e-37, 1.81245690e-33, 1.00000000e+00, 0.00000000e+00,\n",
              "        0.00000000e+00, 0.00000000e+00, 0.00000000e+00],\n",
              "       [1.17761419e-30, 1.98461053e-27, 1.00000000e+00, 0.00000000e+00,\n",
              "        0.00000000e+00, 0.00000000e+00, 0.00000000e+00],\n",
              "       [2.28015592e-26, 7.13610675e-24, 1.00000000e+00, 0.00000000e+00,\n",
              "        0.00000000e+00, 0.00000000e+00, 0.00000000e+00],\n",
              "       [0.00000000e+00, 3.20399562e-37, 1.00000000e+00, 0.00000000e+00,\n",
              "        0.00000000e+00, 0.00000000e+00, 0.00000000e+00],\n",
              "       [0.00000000e+00, 9.69559080e-38, 1.00000000e+00, 0.00000000e+00,\n",
              "        0.00000000e+00, 0.00000000e+00, 0.00000000e+00],\n",
              "       [1.96503054e-28, 6.54650520e-26, 1.00000000e+00, 0.00000000e+00,\n",
              "        0.00000000e+00, 0.00000000e+00, 0.00000000e+00],\n",
              "       [6.23546080e-25, 5.64681075e-22, 1.00000000e+00, 0.00000000e+00,\n",
              "        0.00000000e+00, 0.00000000e+00, 0.00000000e+00],\n",
              "       [2.97925319e-27, 2.44698066e-24, 1.00000000e+00, 0.00000000e+00,\n",
              "        0.00000000e+00, 0.00000000e+00, 0.00000000e+00],\n",
              "       [5.65538837e-38, 3.85313883e-31, 1.00000000e+00, 0.00000000e+00,\n",
              "        0.00000000e+00, 0.00000000e+00, 0.00000000e+00],\n",
              "       [8.36311425e-34, 2.39750348e-30, 1.00000000e+00, 0.00000000e+00,\n",
              "        0.00000000e+00, 0.00000000e+00, 0.00000000e+00],\n",
              "       [3.64476694e-24, 7.45164423e-22, 1.00000000e+00, 0.00000000e+00,\n",
              "        0.00000000e+00, 0.00000000e+00, 0.00000000e+00],\n",
              "       [0.00000000e+00, 0.00000000e+00, 1.00000000e+00, 0.00000000e+00,\n",
              "        0.00000000e+00, 0.00000000e+00, 0.00000000e+00],\n",
              "       [0.00000000e+00, 0.00000000e+00, 1.00000000e+00, 0.00000000e+00,\n",
              "        0.00000000e+00, 0.00000000e+00, 0.00000000e+00],\n",
              "       [0.00000000e+00, 8.59238300e-36, 1.00000000e+00, 0.00000000e+00,\n",
              "        0.00000000e+00, 0.00000000e+00, 0.00000000e+00],\n",
              "       [5.19277568e-34, 5.01788143e-28, 1.00000000e+00, 0.00000000e+00,\n",
              "        0.00000000e+00, 0.00000000e+00, 0.00000000e+00],\n",
              "       [3.40753958e-30, 1.29141066e-27, 1.00000000e+00, 0.00000000e+00,\n",
              "        0.00000000e+00, 0.00000000e+00, 0.00000000e+00],\n",
              "       [1.46248659e-31, 4.69548557e-28, 1.00000000e+00, 0.00000000e+00,\n",
              "        0.00000000e+00, 0.00000000e+00, 0.00000000e+00],\n",
              "       [0.00000000e+00, 7.97537586e-38, 1.00000000e+00, 0.00000000e+00,\n",
              "        0.00000000e+00, 0.00000000e+00, 0.00000000e+00],\n",
              "       [3.57431553e-37, 1.15206767e-33, 1.00000000e+00, 0.00000000e+00,\n",
              "        0.00000000e+00, 0.00000000e+00, 0.00000000e+00],\n",
              "       [0.00000000e+00, 2.38601856e-36, 1.00000000e+00, 0.00000000e+00,\n",
              "        0.00000000e+00, 0.00000000e+00, 0.00000000e+00],\n",
              "       [4.57844855e-27, 3.12973583e-24, 1.00000000e+00, 0.00000000e+00,\n",
              "        0.00000000e+00, 0.00000000e+00, 0.00000000e+00],\n",
              "       [4.58397687e-32, 1.26871911e-28, 1.00000000e+00, 0.00000000e+00,\n",
              "        0.00000000e+00, 0.00000000e+00, 0.00000000e+00],\n",
              "       [0.00000000e+00, 3.98743716e-37, 1.00000000e+00, 0.00000000e+00,\n",
              "        0.00000000e+00, 0.00000000e+00, 0.00000000e+00],\n",
              "       [6.92912663e-38, 7.83991882e-35, 1.00000000e+00, 0.00000000e+00,\n",
              "        0.00000000e+00, 0.00000000e+00, 0.00000000e+00],\n",
              "       [0.00000000e+00, 0.00000000e+00, 1.00000000e+00, 0.00000000e+00,\n",
              "        0.00000000e+00, 0.00000000e+00, 0.00000000e+00],\n",
              "       [3.91971255e-34, 1.08063948e-30, 1.00000000e+00, 0.00000000e+00,\n",
              "        0.00000000e+00, 0.00000000e+00, 0.00000000e+00],\n",
              "       [0.00000000e+00, 3.32463133e-38, 1.00000000e+00, 0.00000000e+00,\n",
              "        0.00000000e+00, 0.00000000e+00, 0.00000000e+00],\n",
              "       [0.00000000e+00, 0.00000000e+00, 1.00000000e+00, 0.00000000e+00,\n",
              "        0.00000000e+00, 0.00000000e+00, 0.00000000e+00],\n",
              "       [9.92551585e-38, 9.46239568e-31, 1.00000000e+00, 0.00000000e+00,\n",
              "        0.00000000e+00, 0.00000000e+00, 0.00000000e+00],\n",
              "       [1.57138260e-34, 4.20774955e-30, 1.00000000e+00, 0.00000000e+00,\n",
              "        0.00000000e+00, 0.00000000e+00, 0.00000000e+00],\n",
              "       [0.00000000e+00, 2.87204304e-37, 1.00000000e+00, 0.00000000e+00,\n",
              "        0.00000000e+00, 0.00000000e+00, 0.00000000e+00],\n",
              "       [0.00000000e+00, 0.00000000e+00, 1.00000000e+00, 0.00000000e+00,\n",
              "        0.00000000e+00, 0.00000000e+00, 0.00000000e+00],\n",
              "       [0.00000000e+00, 0.00000000e+00, 1.00000000e+00, 0.00000000e+00,\n",
              "        0.00000000e+00, 0.00000000e+00, 0.00000000e+00],\n",
              "       [1.12944739e-35, 4.25607831e-32, 1.00000000e+00, 0.00000000e+00,\n",
              "        0.00000000e+00, 0.00000000e+00, 0.00000000e+00],\n",
              "       [0.00000000e+00, 3.72452200e-36, 1.00000000e+00, 0.00000000e+00,\n",
              "        0.00000000e+00, 0.00000000e+00, 0.00000000e+00],\n",
              "       [0.00000000e+00, 1.28522436e-33, 1.00000000e+00, 0.00000000e+00,\n",
              "        0.00000000e+00, 0.00000000e+00, 0.00000000e+00],\n",
              "       [0.00000000e+00, 0.00000000e+00, 1.00000000e+00, 0.00000000e+00,\n",
              "        0.00000000e+00, 0.00000000e+00, 0.00000000e+00],\n",
              "       [5.66552815e-26, 1.01821496e-23, 1.00000000e+00, 0.00000000e+00,\n",
              "        0.00000000e+00, 0.00000000e+00, 0.00000000e+00],\n",
              "       [0.00000000e+00, 3.88688693e-38, 1.00000000e+00, 0.00000000e+00,\n",
              "        0.00000000e+00, 0.00000000e+00, 0.00000000e+00]], dtype=float32)"
            ]
          },
          "metadata": {
            "tags": []
          },
          "execution_count": 65
        }
      ]
    },
    {
      "cell_type": "code",
      "metadata": {
        "id": "VPNyO9N4rCPo"
      },
      "source": [
        "y_pred = (y_pred > 0.5)"
      ],
      "execution_count": null,
      "outputs": []
    },
    {
      "cell_type": "code",
      "metadata": {
        "colab": {
          "base_uri": "https://localhost:8080/"
        },
        "id": "N0196Vfiq3Dw",
        "outputId": "85fafb1c-ab10-4871-c555-ba0a40341460"
      },
      "source": [
        "np.argmax(y_pred, axis=1)"
      ],
      "execution_count": null,
      "outputs": [
        {
          "output_type": "execute_result",
          "data": {
            "text/plain": [
              "array([2, 2, 2, 2, 2, 2, 2, 2, 2, 2, 2, 2, 2, 2, 2, 2, 2, 2, 2, 2, 2, 2,\n",
              "       2, 2, 2, 2, 2, 2, 2, 2, 2, 2, 2, 2, 2, 2, 2, 2, 2, 2, 2, 2, 2, 2,\n",
              "       2, 2, 2, 2, 2, 2, 2, 2, 2, 2, 2, 2, 2])"
            ]
          },
          "metadata": {
            "tags": []
          },
          "execution_count": 67
        }
      ]
    },
    {
      "cell_type": "code",
      "metadata": {
        "colab": {
          "base_uri": "https://localhost:8080/"
        },
        "id": "8z-nVEWYrBsH",
        "outputId": "b206a222-0d81-4090-be11-62019425fd15"
      },
      "source": [
        "from sklearn.metrics import accuracy_score\n",
        "a = accuracy_score(y_pred,y_test)\n",
        "print('Accuracy is:', a*100)"
      ],
      "execution_count": null,
      "outputs": [
        {
          "output_type": "stream",
          "text": [
            "Accuracy is: 0.0\n"
          ],
          "name": "stdout"
        }
      ]
    },
    {
      "cell_type": "markdown",
      "metadata": {
        "id": "HX-xeYPbr9Z_"
      },
      "source": [
        "2) 3 HL Model"
      ]
    },
    {
      "cell_type": "code",
      "metadata": {
        "id": "Dh3aGu1ErTeH"
      },
      "source": [
        "# define the keras model\n",
        "model = Sequential()\n",
        "model.add(Dense(500, input_dim=13, activation='relu'))\n",
        "model.add(Dense(200,  activation='relu'))\n",
        "model.add(Dense(100,  activation='relu'))\n",
        "model.add(Dense(7, activation='softmax'))"
      ],
      "execution_count": null,
      "outputs": []
    },
    {
      "cell_type": "code",
      "metadata": {
        "id": "1p7fiZWZHz6z"
      },
      "source": [
        " #Compile the model\n",
        "model.compile(loss='categorical_crossentropy', optimizer='adam', metrics=['accuracy'])"
      ],
      "execution_count": null,
      "outputs": []
    },
    {
      "cell_type": "code",
      "metadata": {
        "id": "Stx78uMgK-zC"
      },
      "source": [
        "#Training the model\n",
        "history = model.fit(x_train, y_train, epochs=100, batch_size=100,verbose=0)"
      ],
      "execution_count": null,
      "outputs": []
    },
    {
      "cell_type": "code",
      "metadata": {
        "id": "YKWJaFdcLZEt",
        "colab": {
          "base_uri": "https://localhost:8080/"
        },
        "outputId": "ffccf7ce-ae09-4563-c71e-a387adc69318"
      },
      "source": [
        "y_pred = model.predict(x_test)\n",
        "y_pred"
      ],
      "execution_count": null,
      "outputs": [
        {
          "output_type": "execute_result",
          "data": {
            "text/plain": [
              "array([[0., 1., 0., 0., 0., 0., 0.],\n",
              "       [0., 1., 0., 0., 0., 0., 0.],\n",
              "       [0., 1., 0., 0., 0., 0., 0.],\n",
              "       [0., 1., 0., 0., 0., 0., 0.],\n",
              "       [0., 1., 0., 0., 0., 0., 0.],\n",
              "       [0., 1., 0., 0., 0., 0., 0.],\n",
              "       [0., 1., 0., 0., 0., 0., 0.],\n",
              "       [0., 1., 0., 0., 0., 0., 0.],\n",
              "       [0., 1., 0., 0., 0., 0., 0.],\n",
              "       [0., 1., 0., 0., 0., 0., 0.],\n",
              "       [0., 1., 0., 0., 0., 0., 0.],\n",
              "       [0., 1., 0., 0., 0., 0., 0.],\n",
              "       [0., 1., 0., 0., 0., 0., 0.],\n",
              "       [0., 1., 0., 0., 0., 0., 0.],\n",
              "       [0., 1., 0., 0., 0., 0., 0.],\n",
              "       [0., 1., 0., 0., 0., 0., 0.],\n",
              "       [0., 1., 0., 0., 0., 0., 0.],\n",
              "       [0., 1., 0., 0., 0., 0., 0.],\n",
              "       [0., 1., 0., 0., 0., 0., 0.],\n",
              "       [0., 1., 0., 0., 0., 0., 0.],\n",
              "       [0., 1., 0., 0., 0., 0., 0.],\n",
              "       [0., 1., 0., 0., 0., 0., 0.],\n",
              "       [0., 1., 0., 0., 0., 0., 0.],\n",
              "       [0., 1., 0., 0., 0., 0., 0.],\n",
              "       [0., 1., 0., 0., 0., 0., 0.],\n",
              "       [0., 1., 0., 0., 0., 0., 0.],\n",
              "       [0., 1., 0., 0., 0., 0., 0.],\n",
              "       [0., 1., 0., 0., 0., 0., 0.],\n",
              "       [0., 1., 0., 0., 0., 0., 0.],\n",
              "       [0., 1., 0., 0., 0., 0., 0.],\n",
              "       [0., 1., 0., 0., 0., 0., 0.],\n",
              "       [0., 1., 0., 0., 0., 0., 0.],\n",
              "       [0., 1., 0., 0., 0., 0., 0.],\n",
              "       [0., 1., 0., 0., 0., 0., 0.],\n",
              "       [0., 1., 0., 0., 0., 0., 0.],\n",
              "       [0., 1., 0., 0., 0., 0., 0.],\n",
              "       [0., 1., 0., 0., 0., 0., 0.],\n",
              "       [0., 1., 0., 0., 0., 0., 0.],\n",
              "       [0., 1., 0., 0., 0., 0., 0.],\n",
              "       [0., 1., 0., 0., 0., 0., 0.],\n",
              "       [0., 1., 0., 0., 0., 0., 0.],\n",
              "       [0., 1., 0., 0., 0., 0., 0.],\n",
              "       [0., 1., 0., 0., 0., 0., 0.],\n",
              "       [0., 1., 0., 0., 0., 0., 0.],\n",
              "       [0., 1., 0., 0., 0., 0., 0.],\n",
              "       [0., 1., 0., 0., 0., 0., 0.],\n",
              "       [0., 1., 0., 0., 0., 0., 0.],\n",
              "       [0., 1., 0., 0., 0., 0., 0.],\n",
              "       [0., 1., 0., 0., 0., 0., 0.],\n",
              "       [0., 1., 0., 0., 0., 0., 0.],\n",
              "       [0., 1., 0., 0., 0., 0., 0.],\n",
              "       [0., 1., 0., 0., 0., 0., 0.],\n",
              "       [0., 1., 0., 0., 0., 0., 0.],\n",
              "       [0., 1., 0., 0., 0., 0., 0.],\n",
              "       [0., 1., 0., 0., 0., 0., 0.],\n",
              "       [0., 1., 0., 0., 0., 0., 0.],\n",
              "       [0., 1., 0., 0., 0., 0., 0.]], dtype=float32)"
            ]
          },
          "metadata": {
            "tags": []
          },
          "execution_count": 72
        }
      ]
    },
    {
      "cell_type": "code",
      "metadata": {
        "id": "u4AqvBC9-gRb"
      },
      "source": [
        "y_pred = (y_pred > 0.5)   #without this line the accuracy score was throwing an error ValueError: Classification metrics can't handle a mix of continuous-multioutput and multilabel-indicator targets \n",
        "                          "
      ],
      "execution_count": null,
      "outputs": []
    },
    {
      "cell_type": "code",
      "metadata": {
        "id": "dg8ar5YQ-rJY",
        "colab": {
          "base_uri": "https://localhost:8080/"
        },
        "outputId": "9b00197f-1949-4f6c-f279-2682ff0c7517"
      },
      "source": [
        "np.argmax(y_pred, axis=1) # This line converts the boolean matrix with same shape as y_pred to vector of labels to evaluate accuracy."
      ],
      "execution_count": null,
      "outputs": [
        {
          "output_type": "execute_result",
          "data": {
            "text/plain": [
              "array([1, 1, 1, 1, 1, 1, 1, 1, 1, 1, 1, 1, 1, 1, 1, 1, 1, 1, 1, 1, 1, 1,\n",
              "       1, 1, 1, 1, 1, 1, 1, 1, 1, 1, 1, 1, 1, 1, 1, 1, 1, 1, 1, 1, 1, 1,\n",
              "       1, 1, 1, 1, 1, 1, 1, 1, 1, 1, 1, 1, 1])"
            ]
          },
          "metadata": {
            "tags": []
          },
          "execution_count": 74
        }
      ]
    },
    {
      "cell_type": "code",
      "metadata": {
        "id": "qgpL76PgLcSb",
        "colab": {
          "base_uri": "https://localhost:8080/"
        },
        "outputId": "a0c10197-ee0c-49b2-9eaa-3211c5896449"
      },
      "source": [
        "from sklearn.metrics import accuracy_score\n",
        "a = accuracy_score(y_pred,y_test)\n",
        "print('Accuracy is:', a*100)"
      ],
      "execution_count": null,
      "outputs": [
        {
          "output_type": "stream",
          "text": [
            "Accuracy is: 14.035087719298245\n"
          ],
          "name": "stdout"
        }
      ]
    },
    {
      "cell_type": "markdown",
      "metadata": {
        "id": "7az1iOXTp72E"
      },
      "source": [
        "Check tensorflow and kerastuner versions"
      ]
    },
    {
      "cell_type": "code",
      "metadata": {
        "id": "yJ8lh-P6pnVV",
        "colab": {
          "base_uri": "https://localhost:8080/"
        },
        "outputId": "43639be3-2a0f-4a13-cc23-16f65e83fcbb"
      },
      "source": [
        "import tensorflow as tf\n",
        "import kerastuner as kt\n",
        "\n",
        "print(tf.__version__)\n",
        "print(kt.__version__)"
      ],
      "execution_count": null,
      "outputs": [
        {
          "output_type": "stream",
          "text": [
            "2.4.1\n",
            "1.0.2\n"
          ],
          "name": "stdout"
        }
      ]
    },
    {
      "cell_type": "markdown",
      "metadata": {
        "id": "yluARNv8pzb0"
      },
      "source": [
        "Import liabraries"
      ]
    },
    {
      "cell_type": "code",
      "metadata": {
        "id": "8T4nBQoIpskn"
      },
      "source": [
        "from sklearn.preprocessing import StandardScaler\n",
        "from tensorflow.keras import models, layers\n",
        "from kerastuner import HyperModel, RandomSearch, Hyperband, BayesianOptimization\n",
        "from keras.callbacks import EarlyStopping\n",
        "from keras.callbacks import ModelCheckpoint\n",
        "from matplotlib import pyplot\n",
        "from keras.models import load_model"
      ],
      "execution_count": null,
      "outputs": []
    },
    {
      "cell_type": "code",
      "metadata": {
        "id": "QTMg7fmrquMa"
      },
      "source": [
        "from tensorflow.keras.models import Sequential"
      ],
      "execution_count": null,
      "outputs": []
    },
    {
      "cell_type": "code",
      "metadata": {
        "id": "oD7Aus6SuNei"
      },
      "source": [
        "from tensorflow.keras.layers import Dense, Conv2D, MaxPool2D, BatchNormalization, Dropout, Flatten, LeakyReLU"
      ],
      "execution_count": null,
      "outputs": []
    },
    {
      "cell_type": "markdown",
      "metadata": {
        "id": "sQybzqt8-4S1"
      },
      "source": [
        "Regularization : Dropout "
      ]
    },
    {
      "cell_type": "code",
      "metadata": {
        "colab": {
          "base_uri": "https://localhost:8080/",
          "height": 286
        },
        "id": "PlE2Xe97-2M7",
        "outputId": "7d2b0d5d-1d41-448f-b0ee-a79f5e01fbad"
      },
      "source": [
        "adam=tf.keras.optimizers.Adam(\n",
        "    learning_rate=0.001,\n",
        "    beta_1=0.9,\n",
        "    beta_2=0.999,\n",
        "    epsilon=1e-07,\n",
        "    amsgrad=False,\n",
        "    name=\"Adam\")\n",
        "# define model\n",
        "model = Sequential()\n",
        "model.add(Dense(500, input_dim=13, activation='relu',kernel_regularizer='l1'))\n",
        "model.add(Dropout(0.4))\n",
        "model.add(Dense(200, activation='relu',kernel_regularizer='l1'))\n",
        "model.add(Dense(100, activation='relu',kernel_regularizer='l1'))\n",
        "model.add(Dense(7, activation='softmax'))\n",
        "model.compile(loss='categorical_crossentropy', optimizer= adam, metrics=['accuracy'])\n",
        "\n",
        "# fit model\n",
        "history = model.fit(x_train, y_train, validation_data=(x_test, y_test), epochs=25, verbose=0)\n",
        "\n",
        "# evaluate the model\n",
        "_, train_acc = model.evaluate(x_train, y_train, verbose=0)\n",
        "_, test_acc = model.evaluate(x_test, y_test, verbose=0)\n",
        "print('Train: %.3f, Test: %.3f' % (train_acc, test_acc))\n",
        "pyplot.plot(history.history['accuracy'], label='train')\n",
        "pyplot.plot(history.history['val_accuracy'], label='test')\n",
        "pyplot.legend()\n",
        "pyplot.show()"
      ],
      "execution_count": null,
      "outputs": [
        {
          "output_type": "stream",
          "text": [
            "Train: 0.636, Test: 0.526\n"
          ],
          "name": "stdout"
        },
        {
          "output_type": "display_data",
          "data": {
            "image/png": "[encoded data removed]",
            "text/plain": [
              "<Figure size 432x288 with 1 Axes>"
            ]
          },
          "metadata": {
            "tags": []
          }
        }
      ]
    },
    {
      "cell_type": "code",
      "metadata": {
        "colab": {
          "base_uri": "https://localhost:8080/",
          "height": 286
        },
        "id": "8evyQwef-2Tq",
        "outputId": "2df0dc2b-7058-48e3-c5d7-ed9f773c52da"
      },
      "source": [
        "adam=tf.keras.optimizers.Adam(\n",
        "    learning_rate=0.001,\n",
        "    beta_1=0.9,\n",
        "    beta_2=0.999,\n",
        "    epsilon=1e-07,\n",
        "    amsgrad=False,\n",
        "    name=\"Adam\")\n",
        "# define model\n",
        "model = Sequential()\n",
        "model.add(Dense(500, input_dim=13, activation='relu',kernel_regularizer='l1'))\n",
        "model.add(Dropout(0.4))\n",
        "model.add(Dense(200, activation='relu',kernel_regularizer='l1'))\n",
        "model.add(Dropout(0.4))\n",
        "model.add(Dense(100, activation='relu',kernel_regularizer='l1'))\n",
        "model.add(Dense(7, activation='softmax'))\n",
        "model.compile(loss='categorical_crossentropy', optimizer= adam, metrics=['accuracy'])\n",
        "\n",
        "# fit model\n",
        "history = model.fit(x_train, y_train, validation_data=(x_test, y_test), epochs=25, verbose=0)\n",
        "\n",
        "# evaluate the model\n",
        "_, train_acc = model.evaluate(x_train, y_train, verbose=0)\n",
        "_, test_acc = model.evaluate(x_test, y_test, verbose=0)\n",
        "print('Train: %.3f, Test: %.3f' % (train_acc, test_acc))\n",
        "pyplot.plot(history.history['accuracy'], label='train')\n",
        "pyplot.plot(history.history['val_accuracy'], label='test')\n",
        "pyplot.legend()\n",
        "pyplot.show()"
      ],
      "execution_count": null,
      "outputs": [
        {
          "output_type": "stream",
          "text": [
            "Train: 0.636, Test: 0.526\n"
          ],
          "name": "stdout"
        },
        {
          "output_type": "display_data",
          "data": {
            "image/png": "[encoded data removed]",
            "text/plain": [
              "<Figure size 432x288 with 1 Axes>"
            ]
          },
          "metadata": {
            "tags": []
          }
        }
      ]
    },
    {
      "cell_type": "markdown",
      "metadata": {
        "id": "9O6xv_7W6Inz"
      },
      "source": [
        "In next model Regularization:Dropout, Early stopping is added"
      ]
    },
    {
      "cell_type": "code",
      "metadata": {
        "id": "RiJNlA5UkH9r",
        "colab": {
          "base_uri": "https://localhost:8080/",
          "height": 1000
        },
        "outputId": "939da2e2-eb42-407d-9afc-f23b1bfbb9f4"
      },
      "source": [
        "adam=tf.keras.optimizers.Adam(\n",
        "    learning_rate=0.001,\n",
        "    beta_1=0.9,\n",
        "    beta_2=0.999,\n",
        "    epsilon=1e-07,\n",
        "    amsgrad=False,\n",
        "    name=\"Adam\")\n",
        "# define model\n",
        "model = Sequential()\n",
        "model.add(Dense(500, input_dim=13, activation='relu',kernel_regularizer='l1'))\n",
        "model.add(Dropout(0.4))\n",
        "model.add(Dense(200, activation='relu',kernel_regularizer='l1'))\n",
        "model.add(Dense(100, activation='relu',kernel_regularizer='l1'))\n",
        "model.add(Dense(7, activation='softmax'))\n",
        "model.compile(loss='categorical_crossentropy', optimizer= adam, metrics=['accuracy'])\n",
        "# simple early stopping\n",
        "es = EarlyStopping(monitor='val_loss', mode='min', verbose=1, patience=200)\n",
        "mc = ModelCheckpoint('best_model.h5', monitor='val_accuracy', mode='max', verbose=1, save_best_only=True)\n",
        "# fit model\n",
        "history = model.fit(x_train, y_train, validation_data=(x_test, y_test), epochs=25, verbose=0, callbacks=[es, mc])\n",
        "# load the saved model\n",
        "saved_model = load_model('best_model.h5')\n",
        "# evaluate the model\n",
        "_, train_acc = saved_model.evaluate(x_train, y_train, verbose=0)\n",
        "_, test_acc = saved_model.evaluate(x_test, y_test, verbose=0)\n",
        "print('Train: %.3f, Test: %.3f' % (train_acc, test_acc))\n",
        "pyplot.plot(history.history['accuracy'], label='train')\n",
        "pyplot.plot(history.history['val_accuracy'], label='test')\n",
        "pyplot.legend()\n",
        "pyplot.show()"
      ],
      "execution_count": null,
      "outputs": [
        {
          "output_type": "stream",
          "text": [
            "\n",
            "Epoch 00001: val_accuracy improved from -inf to 0.21053, saving model to best_model.h5\n",
            "\n",
            "Epoch 00002: val_accuracy improved from 0.21053 to 0.36842, saving model to best_model.h5\n",
            "\n",
            "Epoch 00003: val_accuracy did not improve from 0.36842\n",
            "\n",
            "Epoch 00004: val_accuracy did not improve from 0.36842\n",
            "\n",
            "Epoch 00005: val_accuracy did not improve from 0.36842\n",
            "\n",
            "Epoch 00006: val_accuracy did not improve from 0.36842\n",
            "\n",
            "Epoch 00007: val_accuracy did not improve from 0.36842\n",
            "\n",
            "Epoch 00008: val_accuracy did not improve from 0.36842\n",
            "\n",
            "Epoch 00009: val_accuracy did not improve from 0.36842\n",
            "\n",
            "Epoch 00010: val_accuracy improved from 0.36842 to 0.42105, saving model to best_model.h5\n",
            "\n",
            "Epoch 00011: val_accuracy improved from 0.42105 to 0.52632, saving model to best_model.h5\n",
            "\n",
            "Epoch 00012: val_accuracy improved from 0.52632 to 0.64912, saving model to best_model.h5\n",
            "\n",
            "Epoch 00013: val_accuracy did not improve from 0.64912\n",
            "\n",
            "Epoch 00014: val_accuracy did not improve from 0.64912\n",
            "\n",
            "Epoch 00015: val_accuracy did not improve from 0.64912\n",
            "\n",
            "Epoch 00016: val_accuracy did not improve from 0.64912\n",
            "\n",
            "Epoch 00017: val_accuracy did not improve from 0.64912\n",
            "\n",
            "Epoch 00018: val_accuracy did not improve from 0.64912\n",
            "\n",
            "Epoch 00019: val_accuracy did not improve from 0.64912\n",
            "\n",
            "Epoch 00020: val_accuracy did not improve from 0.64912\n",
            "\n",
            "Epoch 00021: val_accuracy did not improve from 0.64912\n",
            "\n",
            "Epoch 00022: val_accuracy did not improve from 0.64912\n",
            "\n",
            "Epoch 00023: val_accuracy did not improve from 0.64912\n",
            "\n",
            "Epoch 00024: val_accuracy did not improve from 0.64912\n",
            "\n",
            "Epoch 00025: val_accuracy did not improve from 0.64912\n",
            "Train: 0.667, Test: 0.649\n"
          ],
          "name": "stdout"
        },
        {
          "output_type": "display_data",
          "data": {
            "image/png": "[encoded data removed]",
            "text/plain": [
              "<Figure size 432x288 with 1 Axes>"
            ]
          },
          "metadata": {
            "tags": []
          }
        }
      ]
    },
    {
      "cell_type": "markdown",
      "metadata": {
        "id": "FbDy-WyiCV_i"
      },
      "source": [
        "Dropout, Early stopping and batch normalization are added "
      ]
    },
    {
      "cell_type": "code",
      "metadata": {
        "colab": {
          "base_uri": "https://localhost:8080/",
          "height": 1000
        },
        "id": "FbCoosPq7yRm",
        "outputId": "42f4d0a8-ec58-4b43-bb66-9c9e5d569be8"
      },
      "source": [
        "adam=tf.keras.optimizers.Adam(\n",
        "    learning_rate=0.001,\n",
        "    beta_1=0.9,\n",
        "    beta_2=0.999,\n",
        "    epsilon=1e-07,\n",
        "    amsgrad=False,\n",
        "    name=\"Adam\"\n",
        ")\n",
        "\n",
        "# define model\n",
        "model = Sequential()\n",
        "model.add(Dense(500, input_dim=13, activation='relu',kernel_regularizer='l2'))\n",
        "model.add(Dropout(0.4))\n",
        "model.add(BatchNormalization())\n",
        "model.add(Dense(200, activation='relu',kernel_regularizer='l2'))\n",
        "model.add(BatchNormalization())\n",
        "model.add(Dense(100, activation='relu',kernel_regularizer='l2'))\n",
        "model.add(BatchNormalization())\n",
        "model.add(Dense(7, activation='softmax'))\n",
        "model.compile(loss='categorical_crossentropy', optimizer= adam, metrics=['accuracy'])\n",
        "# simple early stopping\n",
        "es = EarlyStopping(monitor='val_loss', mode='min', verbose=1, patience=200)\n",
        "mc = ModelCheckpoint('best_model.h5', monitor='val_accuracy', mode='max', verbose=1, save_best_only=True)\n",
        "# fit model\n",
        "history = model.fit(x_train, y_train, validation_data=(x_test, y_test), epochs=25, verbose=0, callbacks=[es, mc])\n",
        "# load the saved model\n",
        "saved_model = load_model('best_model.h5')\n",
        "# evaluate the model\n",
        "_, train_acc = saved_model.evaluate(x_train, y_train, verbose=0)\n",
        "_, test_acc = saved_model.evaluate(x_test, y_test, verbose=0)\n",
        "print('Train: %.3f, Test: %.3f' % (train_acc, test_acc))\n",
        "pyplot.plot(history.history['accuracy'], label='train')\n",
        "pyplot.plot(history.history['val_accuracy'], label='test')\n",
        "pyplot.legend()\n",
        "pyplot.show()"
      ],
      "execution_count": null,
      "outputs": [
        {
          "output_type": "stream",
          "text": [
            "\n",
            "Epoch 00001: val_accuracy improved from -inf to 0.29825, saving model to best_model.h5\n",
            "\n",
            "Epoch 00002: val_accuracy improved from 0.29825 to 0.38596, saving model to best_model.h5\n",
            "\n",
            "Epoch 00003: val_accuracy improved from 0.38596 to 0.40351, saving model to best_model.h5\n",
            "\n",
            "Epoch 00004: val_accuracy improved from 0.40351 to 0.52632, saving model to best_model.h5\n",
            "\n",
            "Epoch 00005: val_accuracy improved from 0.52632 to 0.59649, saving model to best_model.h5\n",
            "\n",
            "Epoch 00006: val_accuracy improved from 0.59649 to 0.61404, saving model to best_model.h5\n",
            "\n",
            "Epoch 00007: val_accuracy did not improve from 0.61404\n",
            "\n",
            "Epoch 00008: val_accuracy did not improve from 0.61404\n",
            "\n",
            "Epoch 00009: val_accuracy did not improve from 0.61404\n",
            "\n",
            "Epoch 00010: val_accuracy did not improve from 0.61404\n",
            "\n",
            "Epoch 00011: val_accuracy did not improve from 0.61404\n",
            "\n",
            "Epoch 00012: val_accuracy did not improve from 0.61404\n",
            "\n",
            "Epoch 00013: val_accuracy did not improve from 0.61404\n",
            "\n",
            "Epoch 00014: val_accuracy did not improve from 0.61404\n",
            "\n",
            "Epoch 00015: val_accuracy did not improve from 0.61404\n",
            "\n",
            "Epoch 00016: val_accuracy did not improve from 0.61404\n",
            "\n",
            "Epoch 00017: val_accuracy did not improve from 0.61404\n",
            "\n",
            "Epoch 00018: val_accuracy did not improve from 0.61404\n",
            "\n",
            "Epoch 00019: val_accuracy did not improve from 0.61404\n",
            "\n",
            "Epoch 00020: val_accuracy did not improve from 0.61404\n",
            "\n",
            "Epoch 00021: val_accuracy did not improve from 0.61404\n",
            "\n",
            "Epoch 00022: val_accuracy did not improve from 0.61404\n",
            "\n",
            "Epoch 00023: val_accuracy did not improve from 0.61404\n",
            "\n",
            "Epoch 00024: val_accuracy did not improve from 0.61404\n",
            "\n",
            "Epoch 00025: val_accuracy did not improve from 0.61404\n",
            "Train: 0.417, Test: 0.614\n"
          ],
          "name": "stdout"
        },
        {
          "output_type": "display_data",
          "data": {
            "image/png": "[encoded data removed]",
            "text/plain": [
              "<Figure size 432x288 with 1 Axes>"
            ]
          },
          "metadata": {
            "tags": []
          }
        }
      ]
    },
    {
      "cell_type": "markdown",
      "metadata": {
        "id": "SeZSTH1kC0QO"
      },
      "source": [
        "Now optimizer is changed to Adagrad"
      ]
    },
    {
      "cell_type": "code",
      "metadata": {
        "colab": {
          "base_uri": "https://localhost:8080/",
          "height": 1000
        },
        "id": "pMuiqii8C5dF",
        "outputId": "d6cb39d7-e35e-47ae-c9d9-0ee025b7f901"
      },
      "source": [
        "tf.keras.optimizers.Adagrad(\n",
        "    learning_rate=0.001,\n",
        "    initial_accumulator_value=0.1,\n",
        "    epsilon=1e-07,\n",
        "    name=\"Adagrad\",\n",
        ")\n",
        "# define model\n",
        "model = Sequential()\n",
        "model.add(Dense(500, input_dim=13, activation='relu',kernel_regularizer='l2'))\n",
        "model.add(Dropout(0.4))\n",
        "model.add(BatchNormalization())\n",
        "model.add(Dense(200, activation='relu',kernel_regularizer='l2'))\n",
        "model.add(BatchNormalization())\n",
        "model.add(Dense(100, activation='relu',kernel_regularizer='l2'))\n",
        "model.add(BatchNormalization())\n",
        "model.add(Dense(7, activation='softmax'))\n",
        "model.compile(loss='categorical_crossentropy', optimizer= adagrad, metrics=['accuracy'])\n",
        "# simple early stopping\n",
        "es = EarlyStopping(monitor='val_loss', mode='min', verbose=1, patience=200)\n",
        "mc = ModelCheckpoint('best_model.h5', monitor='val_accuracy', mode='max', verbose=1, save_best_only=True)\n",
        "# fit model\n",
        "history = model.fit(x_train, y_train, validation_data=(x_test, y_test), epochs=25, verbose=0, callbacks=[es, mc])\n",
        "# load the saved model\n",
        "saved_model = load_model('best_model.h5')\n",
        "# evaluate the model\n",
        "_, train_acc = saved_model.evaluate(x_train, y_train, verbose=0)\n",
        "_, test_acc = saved_model.evaluate(x_test, y_test, verbose=0)\n",
        "print('Train: %.3f, Test: %.3f' % (train_acc, test_acc))\n",
        "pyplot.plot(history.history['accuracy'], label='train')\n",
        "pyplot.plot(history.history['val_accuracy'], label='test')\n",
        "pyplot.legend()\n",
        "pyplot.show()"
      ],
      "execution_count": null,
      "outputs": [
        {
          "output_type": "stream",
          "text": [
            "\n",
            "Epoch 00001: val_accuracy improved from -inf to 0.31579, saving model to best_model.h5\n",
            "\n",
            "Epoch 00002: val_accuracy improved from 0.31579 to 0.33333, saving model to best_model.h5\n",
            "\n",
            "Epoch 00003: val_accuracy improved from 0.33333 to 0.35088, saving model to best_model.h5\n",
            "\n",
            "Epoch 00004: val_accuracy improved from 0.35088 to 0.38596, saving model to best_model.h5\n",
            "\n",
            "Epoch 00005: val_accuracy improved from 0.38596 to 0.52632, saving model to best_model.h5\n",
            "\n",
            "Epoch 00006: val_accuracy did not improve from 0.52632\n",
            "\n",
            "Epoch 00007: val_accuracy did not improve from 0.52632\n",
            "\n",
            "Epoch 00008: val_accuracy did not improve from 0.52632\n",
            "\n",
            "Epoch 00009: val_accuracy improved from 0.52632 to 0.57895, saving model to best_model.h5\n",
            "\n",
            "Epoch 00010: val_accuracy did not improve from 0.57895\n",
            "\n",
            "Epoch 00011: val_accuracy did not improve from 0.57895\n",
            "\n",
            "Epoch 00012: val_accuracy did not improve from 0.57895\n",
            "\n",
            "Epoch 00013: val_accuracy improved from 0.57895 to 0.61404, saving model to best_model.h5\n",
            "\n",
            "Epoch 00014: val_accuracy did not improve from 0.61404\n",
            "\n",
            "Epoch 00015: val_accuracy did not improve from 0.61404\n",
            "\n",
            "Epoch 00016: val_accuracy did not improve from 0.61404\n",
            "\n",
            "Epoch 00017: val_accuracy did not improve from 0.61404\n",
            "\n",
            "Epoch 00018: val_accuracy did not improve from 0.61404\n",
            "\n",
            "Epoch 00019: val_accuracy did not improve from 0.61404\n",
            "\n",
            "Epoch 00020: val_accuracy did not improve from 0.61404\n",
            "\n",
            "Epoch 00021: val_accuracy did not improve from 0.61404\n",
            "\n",
            "Epoch 00022: val_accuracy did not improve from 0.61404\n",
            "\n",
            "Epoch 00023: val_accuracy did not improve from 0.61404\n",
            "\n",
            "Epoch 00024: val_accuracy did not improve from 0.61404\n",
            "\n",
            "Epoch 00025: val_accuracy did not improve from 0.61404\n",
            "WARNING:tensorflow:Error in loading the saved optimizer state. As a result, your model is starting with a freshly initialized optimizer.\n",
            "Train: 0.652, Test: 0.614\n"
          ],
          "name": "stdout"
        },
        {
          "output_type": "display_data",
          "data": {
            "image/png": "[encoded data removed]",
            "text/plain": [
              "<Figure size 432x288 with 1 Axes>"
            ]
          },
          "metadata": {
            "tags": []
          }
        }
      ]
    },
    {
      "cell_type": "markdown",
      "metadata": {
        "id": "Elg8lnSdGcip"
      },
      "source": [
        "Model with only Batch Normalization"
      ]
    },
    {
      "cell_type": "code",
      "metadata": {
        "colab": {
          "base_uri": "https://localhost:8080/",
          "height": 1000
        },
        "id": "PYnYkwTfGc1Y",
        "outputId": "84df8d25-7b35-450f-bd4f-9b4eeccba021"
      },
      "source": [
        "adam=tf.keras.optimizers.Adam(\n",
        "    learning_rate=0.001,\n",
        "    beta_1=0.9,\n",
        "    beta_2=0.999,\n",
        "    epsilon=1e-07,\n",
        "    amsgrad=False,\n",
        "    name=\"Adam\"\n",
        ")\n",
        "\n",
        "# define model\n",
        "model = Sequential()\n",
        "model.add(Dense(500, input_dim=13, activation='relu',kernel_regularizer='l2'))\n",
        "model.add(BatchNormalization())\n",
        "model.add(Dense(200, activation='relu',kernel_regularizer='l2'))\n",
        "model.add(BatchNormalization())\n",
        "model.add(Dense(100, activation='relu',kernel_regularizer='l2'))\n",
        "model.add(BatchNormalization())\n",
        "model.add(Dense(7, activation='softmax'))\n",
        "model.compile(loss='categorical_crossentropy', optimizer= adam, metrics=['accuracy'])\n",
        "# simple early stopping\n",
        "es = EarlyStopping(monitor='val_loss', mode='min', verbose=1, patience=200)\n",
        "mc = ModelCheckpoint('best_model.h5', monitor='val_accuracy', mode='max', verbose=1, save_best_only=True)\n",
        "# fit model\n",
        "history = model.fit(x_train, y_train, validation_data=(x_test, y_test), epochs=25, verbose=0, callbacks=[es, mc])\n",
        "# load the saved model\n",
        "saved_model = load_model('best_model.h5')\n",
        "# evaluate the model\n",
        "_, train_acc = saved_model.evaluate(x_train, y_train, verbose=0)\n",
        "_, test_acc = saved_model.evaluate(x_test, y_test, verbose=0)\n",
        "print('Train: %.3f, Test: %.3f' % (train_acc, test_acc))\n",
        "pyplot.plot(history.history['accuracy'], label='train')\n",
        "pyplot.plot(history.history['val_accuracy'], label='test')\n",
        "pyplot.legend()\n",
        "pyplot.show()"
      ],
      "execution_count": null,
      "outputs": [
        {
          "output_type": "stream",
          "text": [
            "\n",
            "Epoch 00001: val_accuracy improved from -inf to 0.42105, saving model to best_model.h5\n",
            "\n",
            "Epoch 00002: val_accuracy improved from 0.42105 to 0.43860, saving model to best_model.h5\n",
            "\n",
            "Epoch 00003: val_accuracy improved from 0.43860 to 0.47368, saving model to best_model.h5\n",
            "\n",
            "Epoch 00004: val_accuracy improved from 0.47368 to 0.49123, saving model to best_model.h5\n",
            "\n",
            "Epoch 00005: val_accuracy did not improve from 0.49123\n",
            "\n",
            "Epoch 00006: val_accuracy did not improve from 0.49123\n",
            "\n",
            "Epoch 00007: val_accuracy did not improve from 0.49123\n",
            "\n",
            "Epoch 00008: val_accuracy did not improve from 0.49123\n",
            "\n",
            "Epoch 00009: val_accuracy did not improve from 0.49123\n",
            "\n",
            "Epoch 00010: val_accuracy did not improve from 0.49123\n",
            "\n",
            "Epoch 00011: val_accuracy did not improve from 0.49123\n",
            "\n",
            "Epoch 00012: val_accuracy did not improve from 0.49123\n",
            "\n",
            "Epoch 00013: val_accuracy did not improve from 0.49123\n",
            "\n",
            "Epoch 00014: val_accuracy improved from 0.49123 to 0.54386, saving model to best_model.h5\n",
            "\n",
            "Epoch 00015: val_accuracy improved from 0.54386 to 0.59649, saving model to best_model.h5\n",
            "\n",
            "Epoch 00016: val_accuracy improved from 0.59649 to 0.61404, saving model to best_model.h5\n",
            "\n",
            "Epoch 00017: val_accuracy did not improve from 0.61404\n",
            "\n",
            "Epoch 00018: val_accuracy did not improve from 0.61404\n",
            "\n",
            "Epoch 00019: val_accuracy did not improve from 0.61404\n",
            "\n",
            "Epoch 00020: val_accuracy improved from 0.61404 to 0.66667, saving model to best_model.h5\n",
            "\n",
            "Epoch 00021: val_accuracy did not improve from 0.66667\n",
            "\n",
            "Epoch 00022: val_accuracy did not improve from 0.66667\n",
            "\n",
            "Epoch 00023: val_accuracy did not improve from 0.66667\n",
            "\n",
            "Epoch 00024: val_accuracy did not improve from 0.66667\n",
            "\n",
            "Epoch 00025: val_accuracy did not improve from 0.66667\n",
            "Train: 0.545, Test: 0.667\n"
          ],
          "name": "stdout"
        },
        {
          "output_type": "display_data",
          "data": {
            "image/png": "[encoded data removed]",
            "text/plain": [
              "<Figure size 432x288 with 1 Axes>"
            ]
          },
          "metadata": {
            "tags": []
          }
        }
      ]
    },
    {
      "cell_type": "markdown",
      "metadata": {
        "id": "1rcirPSrHOjn"
      },
      "source": [
        "**Building a Hypermodel**"
      ]
    },
    {
      "cell_type": "code",
      "metadata": {
        "id": "-nE45-tyty4P",
        "colab": {
          "base_uri": "https://localhost:8080/"
        },
        "outputId": "490e981f-d0fd-417c-b3d6-eea0b753f464"
      },
      "source": [
        "from tensorflow import keras\n",
        "from tensorflow.keras import layers\n",
        "from kerastuner.tuners import RandomSearch\n",
        "\n",
        "def build_model(hp):\n",
        "    model = Sequential()\n",
        "    for i in range(hp.Int('num_layers', 2, 4)):\n",
        "        model.add(layers.Dense(units=hp.Int('units_' + str(i),\n",
        "                                            min_value=500,\n",
        "                                            max_value=600,\n",
        "                                            step=10)))\n",
        "        model.add(layers.Dense(units=hp.Int('units2_' + str(i),\n",
        "                                            min_value=200,\n",
        "                                            max_value=300,\n",
        "                                            step=10),\n",
        "                               activation='relu'))\n",
        "        model.add(layers.BatchNormalization()) \n",
        "    model.add(layers.Dropout(rate=hp.Float('rate_',\n",
        "                                            min_value=0.1,\n",
        "                                            max_value=0.8,\n",
        "                                            step=0.1)))      \n",
        "    \n",
        "    for i in range(hp.Int('num_layers2', 2, 3)):\n",
        "        model.add(layers.Dense(units=hp.Int('units3_' + str(i),\n",
        "                                            min_value=100,\n",
        "                                            max_value=150,\n",
        "                                            step=10),\n",
        "                               activation='relu'))\n",
        "        model.add(layers.BatchNormalization())\n",
        "    model.add(layers.Dense(7, activation='softmax'))\n",
        "    model.compile(\n",
        "        optimizer=tf.keras.optimizers.Adam(\n",
        "            hp.Choice('learning_rate', [1e-2, 1e-3, 1e-4])),\n",
        "        loss='categorical_crossentropy',\n",
        "        metrics=['accuracy'])\n",
        "    return model\n",
        "\n",
        "tuner = RandomSearch(\n",
        "    build_model,\n",
        "    objective='val_accuracy',\n",
        "    max_trials=20,\n",
        "    executions_per_trial=3,\n",
        "    directory='my_dir',\n",
        "    project_name='HaHa'\n",
        "   )\n",
        "\n",
        "tuner.search_space_summary()"
      ],
      "execution_count": null,
      "outputs": [
        {
          "output_type": "stream",
          "text": [
            "Search space summary\n",
            "Default search space size: 10\n",
            "num_layers (Int)\n",
            "{'default': None, 'conditions': [], 'min_value': 2, 'max_value': 4, 'step': 1, 'sampling': None}\n",
            "units_0 (Int)\n",
            "{'default': None, 'conditions': [], 'min_value': 500, 'max_value': 600, 'step': 10, 'sampling': None}\n",
            "units2_0 (Int)\n",
            "{'default': None, 'conditions': [], 'min_value': 200, 'max_value': 300, 'step': 10, 'sampling': None}\n",
            "units_1 (Int)\n",
            "{'default': None, 'conditions': [], 'min_value': 500, 'max_value': 600, 'step': 10, 'sampling': None}\n",
            "units2_1 (Int)\n",
            "{'default': None, 'conditions': [], 'min_value': 200, 'max_value': 300, 'step': 10, 'sampling': None}\n",
            "rate_ (Float)\n",
            "{'default': 0.1, 'conditions': [], 'min_value': 0.1, 'max_value': 0.8, 'step': 0.1, 'sampling': None}\n",
            "num_layers2 (Int)\n",
            "{'default': None, 'conditions': [], 'min_value': 2, 'max_value': 3, 'step': 1, 'sampling': None}\n",
            "units3_0 (Int)\n",
            "{'default': None, 'conditions': [], 'min_value': 100, 'max_value': 150, 'step': 10, 'sampling': None}\n",
            "units3_1 (Int)\n",
            "{'default': None, 'conditions': [], 'min_value': 100, 'max_value': 150, 'step': 10, 'sampling': None}\n",
            "learning_rate (Choice)\n",
            "{'default': 0.01, 'conditions': [], 'values': [0.01, 0.001, 0.0001], 'ordered': True}\n"
          ],
          "name": "stdout"
        }
      ]
    },
    {
      "cell_type": "code",
      "metadata": {
        "id": "yqHnk-Mh1bRT",
        "colab": {
          "base_uri": "https://localhost:8080/"
        },
        "outputId": "b001a14f-e17b-4cbf-d6c0-caa019c8d38f"
      },
      "source": [
        "tuner.search(x_train, y_train,\n",
        "             epochs=5,\n",
        "             validation_data=(x_test, y_test))"
      ],
      "execution_count": null,
      "outputs": [
        {
          "output_type": "stream",
          "text": [
            "Trial 20 Complete [00h 00m 07s]\n",
            "val_accuracy: 0.22807017465432486\n",
            "\n",
            "Best val_accuracy So Far: 0.5263157884279887\n",
            "Total elapsed time: 00h 03m 01s\n",
            "INFO:tensorflow:Oracle triggered exit\n"
          ],
          "name": "stdout"
        }
      ]
    },
    {
      "cell_type": "code",
      "metadata": {
        "id": "E-VWntcCan-w"
      },
      "source": [
        "models = tuner.get_best_models(num_models=3)"
      ],
      "execution_count": null,
      "outputs": []
    },
    {
      "cell_type": "code",
      "metadata": {
        "id": "i5EjwLiYaqL_",
        "colab": {
          "base_uri": "https://localhost:8080/"
        },
        "outputId": "643f4635-4088-4d73-ca78-8348aa5c4873"
      },
      "source": [
        "models[0].evaluate(x_train, y_train)"
      ],
      "execution_count": null,
      "outputs": [
        {
          "output_type": "stream",
          "text": [
            "5/5 [==============================] - 2s 4ms/step - loss: 129.1439 - accuracy: 0.6781\n"
          ],
          "name": "stdout"
        },
        {
          "output_type": "execute_result",
          "data": {
            "text/plain": [
              "[121.75955963134766, 0.6515151262283325]"
            ]
          },
          "metadata": {
            "tags": []
          },
          "execution_count": 86
        }
      ]
    },
    {
      "cell_type": "code",
      "metadata": {
        "id": "hJQA0p7Vuu0O",
        "colab": {
          "base_uri": "https://localhost:8080/"
        },
        "outputId": "802ee3ce-e452-4244-818e-845a461cb6b9"
      },
      "source": [
        "from tensorflow import keras\n",
        "from tensorflow.keras import layers\n",
        "from kerastuner.tuners import RandomSearch\n",
        "\n",
        "def build_model1(hp):\n",
        "    model = Sequential()\n",
        "    for i in range(hp.Int('num_layers', 2, 4)):\n",
        "        model.add(layers.Dense(units=hp.Int('units_' + str(i),\n",
        "                                            min_value=500,\n",
        "                                            max_value=600,\n",
        "                                            step=10)))\n",
        "        model.add(layers.Dense(units=hp.Int('units2_' + str(i),\n",
        "                                            min_value=200,\n",
        "                                            max_value=300,\n",
        "                                            step=10),\n",
        "                               activation='relu'))\n",
        "        model.add(layers.BatchNormalization()) \n",
        "    model.add(layers.Dropout(rate=hp.Float('rate_',\n",
        "                                            min_value=0.1,\n",
        "                                            max_value=0.8,\n",
        "                                            step=0.1)))      \n",
        "    \n",
        "    for i in range(hp.Int('num_layers2', 2, 3)):\n",
        "        model.add(layers.Dense(units=hp.Int('units3_' + str(i),\n",
        "                                            min_value=100,\n",
        "                                            max_value=150,\n",
        "                                            step=10),\n",
        "                               activation='relu'))\n",
        "        model.add(layers.BatchNormalization())\n",
        "    model.add(layers.Dense(7, activation='softmax'))\n",
        "    model.compile(\n",
        "        optimizer=tf.keras.optimizers.Adam(\n",
        "            hp.Choice('learning_rate', [1e-2, 1e-3, 1e-4])),\n",
        "        loss='categorical_crossentropy',\n",
        "        metrics=['accuracy'])\n",
        "    return model\n",
        "\n",
        "tuner_bo = BayesianOptimization(\n",
        "            build_model1,\n",
        "            objective='val_accuracy',\n",
        "            max_trials=20,\n",
        "            seed=42,\n",
        "            executions_per_trial=2,\n",
        "            overwrite=True\n",
        "        )\n",
        "\n",
        "tuner_bo.search_space_summary()"
      ],
      "execution_count": null,
      "outputs": [
        {
          "output_type": "stream",
          "text": [
            "Search space summary\n",
            "Default search space size: 10\n",
            "num_layers (Int)\n",
            "{'default': None, 'conditions': [], 'min_value': 2, 'max_value': 4, 'step': 1, 'sampling': None}\n",
            "units_0 (Int)\n",
            "{'default': None, 'conditions': [], 'min_value': 500, 'max_value': 600, 'step': 10, 'sampling': None}\n",
            "units2_0 (Int)\n",
            "{'default': None, 'conditions': [], 'min_value': 200, 'max_value': 300, 'step': 10, 'sampling': None}\n",
            "units_1 (Int)\n",
            "{'default': None, 'conditions': [], 'min_value': 500, 'max_value': 600, 'step': 10, 'sampling': None}\n",
            "units2_1 (Int)\n",
            "{'default': None, 'conditions': [], 'min_value': 200, 'max_value': 300, 'step': 10, 'sampling': None}\n",
            "rate_ (Float)\n",
            "{'default': 0.1, 'conditions': [], 'min_value': 0.1, 'max_value': 0.8, 'step': 0.1, 'sampling': None}\n",
            "num_layers2 (Int)\n",
            "{'default': None, 'conditions': [], 'min_value': 2, 'max_value': 3, 'step': 1, 'sampling': None}\n",
            "units3_0 (Int)\n",
            "{'default': None, 'conditions': [], 'min_value': 100, 'max_value': 150, 'step': 10, 'sampling': None}\n",
            "units3_1 (Int)\n",
            "{'default': None, 'conditions': [], 'min_value': 100, 'max_value': 150, 'step': 10, 'sampling': None}\n",
            "learning_rate (Choice)\n",
            "{'default': 0.01, 'conditions': [], 'values': [0.01, 0.001, 0.0001], 'ordered': True}\n"
          ],
          "name": "stdout"
        }
      ]
    },
    {
      "cell_type": "code",
      "metadata": {
        "id": "kmxgBGZuwe8l",
        "colab": {
          "base_uri": "https://localhost:8080/"
        },
        "outputId": "16053801-e0b6-4c4c-e88d-17bb092b0329"
      },
      "source": [
        "tuner_bo.search(x_train, y_train, epochs=50, validation_split=0.2, verbose=1)"
      ],
      "execution_count": null,
      "outputs": [
        {
          "output_type": "stream",
          "text": [
            "Trial 20 Complete [00h 00m 15s]\n",
            "val_accuracy: 0.24074073880910873\n",
            "\n",
            "Best val_accuracy So Far: 0.7037037014961243\n",
            "Total elapsed time: 00h 06m 00s\n",
            "INFO:tensorflow:Oracle triggered exit\n"
          ],
          "name": "stdout"
        }
      ]
    },
    {
      "cell_type": "code",
      "metadata": {
        "id": "VFjwfDC2whjz"
      },
      "source": [
        "models = tuner_bo.get_best_models(num_models=3)"
      ],
      "execution_count": null,
      "outputs": []
    },
    {
      "cell_type": "code",
      "metadata": {
        "id": "6FNiVcBgwmxA",
        "colab": {
          "base_uri": "https://localhost:8080/"
        },
        "outputId": "9d94d467-0cd8-458f-d5c0-cf0e2b9ae801"
      },
      "source": [
        "models[0].evaluate(x_train, y_train)"
      ],
      "execution_count": null,
      "outputs": [
        {
          "output_type": "stream",
          "text": [
            "5/5 [==============================] - 1s 4ms/step - loss: 2776.1741 - accuracy: 0.6823\n"
          ],
          "name": "stdout"
        },
        {
          "output_type": "execute_result",
          "data": {
            "text/plain": [
              "[2677.12451171875, 0.6666666865348816]"
            ]
          },
          "metadata": {
            "tags": []
          },
          "execution_count": 105
        }
      ]
    },
    {
      "cell_type": "code",
      "metadata": {
        "id": "Y5JtEt6DwrUB",
        "colab": {
          "base_uri": "https://localhost:8080/"
        },
        "outputId": "adcb51db-85bc-421b-92ed-dade4178a111"
      },
      "source": [
        "models[0].summary()"
      ],
      "execution_count": null,
      "outputs": [
        {
          "output_type": "stream",
          "text": [
            "Model: \"sequential\"\n",
            "_________________________________________________________________\n",
            "Layer (type)                 Output Shape              Param #   \n",
            "=================================================================\n",
            "dense (Dense)                (None, 600)               8400      \n",
            "_________________________________________________________________\n",
            "dense_1 (Dense)              (None, 300)               180300    \n",
            "_________________________________________________________________\n",
            "batch_normalization (BatchNo (None, 300)               1200      \n",
            "_________________________________________________________________\n",
            "dense_2 (Dense)              (None, 500)               150500    \n",
            "_________________________________________________________________\n",
            "dense_3 (Dense)              (None, 300)               150300    \n",
            "_________________________________________________________________\n",
            "batch_normalization_1 (Batch (None, 300)               1200      \n",
            "_________________________________________________________________\n",
            "dense_4 (Dense)              (None, 500)               150500    \n",
            "_________________________________________________________________\n",
            "dense_5 (Dense)              (None, 200)               100200    \n",
            "_________________________________________________________________\n",
            "batch_normalization_2 (Batch (None, 200)               800       \n",
            "_________________________________________________________________\n",
            "dense_6 (Dense)              (None, 500)               100500    \n",
            "_________________________________________________________________\n",
            "dense_7 (Dense)              (None, 200)               100200    \n",
            "_________________________________________________________________\n",
            "batch_normalization_3 (Batch (None, 200)               800       \n",
            "_________________________________________________________________\n",
            "dropout (Dropout)            (None, 200)               0         \n",
            "_________________________________________________________________\n",
            "dense_8 (Dense)              (None, 150)               30150     \n",
            "_________________________________________________________________\n",
            "batch_normalization_4 (Batch (None, 150)               600       \n",
            "_________________________________________________________________\n",
            "dense_9 (Dense)              (None, 150)               22650     \n",
            "_________________________________________________________________\n",
            "batch_normalization_5 (Batch (None, 150)               600       \n",
            "_________________________________________________________________\n",
            "dense_10 (Dense)             (None, 7)                 1057      \n",
            "=================================================================\n",
            "Total params: 999,957\n",
            "Trainable params: 997,357\n",
            "Non-trainable params: 2,600\n",
            "_________________________________________________________________\n"
          ],
          "name": "stdout"
        }
      ]
    },
    {
      "cell_type": "markdown",
      "metadata": {
        "id": "-iZTHNT4R_QN"
      },
      "source": [
        "This is the best model among all the models."
      ]
    },
    {
      "cell_type": "code",
      "metadata": {
        "id": "blE5VMy2QWj8"
      },
      "source": [
        ""
      ],
      "execution_count": null,
      "outputs": []
    }
  ]
}